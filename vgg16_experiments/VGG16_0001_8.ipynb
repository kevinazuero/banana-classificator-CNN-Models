{
 "cells": [
  {
   "cell_type": "code",
   "execution_count": 1,
   "metadata": {
    "colab": {
     "base_uri": "https://localhost:8080/"
    },
    "execution": {
     "iopub.execute_input": "2025-06-22T00:20:29.788020Z",
     "iopub.status.busy": "2025-06-22T00:20:29.787537Z",
     "iopub.status.idle": "2025-06-22T00:20:32.417759Z",
     "shell.execute_reply": "2025-06-22T00:20:32.417179Z",
     "shell.execute_reply.started": "2025-06-22T00:20:29.788001Z"
    },
    "id": "UjN0F5jMwhLf",
    "outputId": "7bde402c-8f68-4257-d67f-ac66f7137aa0",
    "tags": []
   },
   "outputs": [
    {
     "name": "stderr",
     "output_type": "stream",
     "text": [
      "2025-06-22 00:20:30.747228: E external/local_xla/xla/stream_executor/cuda/cuda_dnn.cc:9261] Unable to register cuDNN factory: Attempting to register factory for plugin cuDNN when one has already been registered\n",
      "2025-06-22 00:20:30.747308: E external/local_xla/xla/stream_executor/cuda/cuda_fft.cc:607] Unable to register cuFFT factory: Attempting to register factory for plugin cuFFT when one has already been registered\n",
      "2025-06-22 00:20:30.748625: E external/local_xla/xla/stream_executor/cuda/cuda_blas.cc:1515] Unable to register cuBLAS factory: Attempting to register factory for plugin cuBLAS when one has already been registered\n",
      "2025-06-22 00:20:30.755749: I tensorflow/core/platform/cpu_feature_guard.cc:182] This TensorFlow binary is optimized to use available CPU instructions in performance-critical operations.\n",
      "To enable the following instructions: AVX2 FMA, in other operations, rebuild TensorFlow with the appropriate compiler flags.\n",
      "2025-06-22 00:20:31.530170: W tensorflow/compiler/tf2tensorrt/utils/py_utils.cc:38] TF-TRT Warning: Could not find TensorRT\n"
     ]
    }
   ],
   "source": [
    "import zipfile\n",
    "import os\n",
    "import numpy as np\n",
    "import pandas as pd\n",
    "from sklearn.metrics import recall_score, f1_score, matthews_corrcoef\n",
    "from tensorflow.keras.callbacks import Callback\n",
    "from tensorflow.keras.preprocessing.image import ImageDataGenerator\n",
    "from tensorflow.keras.applications.vgg16 import preprocess_input\n",
    "import time\n",
    "\n",
    "from tensorflow.keras.applications import VGG16\n",
    "from tensorflow.keras.models import Model\n",
    "from tensorflow.keras.layers import Dense, Flatten, Dropout, GlobalAveragePooling2D\n",
    "from tensorflow.keras.optimizers import Adam\n",
    "\n",
    "\n",
    "import numpy as np\n",
    "from sklearn.metrics import classification_report, confusion_matrix\n",
    "import matplotlib.pyplot as plt\n",
    "import seaborn as sns\n",
    "\n",
    "\n",
    "import tensorflow as tf"
   ]
  },
  {
   "cell_type": "code",
   "execution_count": 2,
   "metadata": {
    "execution": {
     "iopub.execute_input": "2025-06-22T00:20:32.418995Z",
     "iopub.status.busy": "2025-06-22T00:20:32.418630Z",
     "iopub.status.idle": "2025-06-22T00:20:32.642057Z",
     "shell.execute_reply": "2025-06-22T00:20:32.641480Z",
     "shell.execute_reply.started": "2025-06-22T00:20:32.418943Z"
    },
    "id": "iW8Xq1X2uihR",
    "outputId": "6b97d83e-da71-41f0-b853-57a5b3d0583d",
    "tags": []
   },
   "outputs": [
    {
     "name": "stdout",
     "output_type": "stream",
     "text": [
      "GPUs disponibles: [PhysicalDevice(name='/physical_device:GPU:0', device_type='GPU')]\n"
     ]
    },
    {
     "name": "stderr",
     "output_type": "stream",
     "text": [
      "2025-06-22 00:20:32.438752: I external/local_xla/xla/stream_executor/cuda/cuda_executor.cc:901] successful NUMA node read from SysFS had negative value (-1), but there must be at least one NUMA node, so returning NUMA node zero. See more at https://github.com/torvalds/linux/blob/v6.0/Documentation/ABI/testing/sysfs-bus-pci#L344-L355\n",
      "2025-06-22 00:20:32.468541: I external/local_xla/xla/stream_executor/cuda/cuda_executor.cc:901] successful NUMA node read from SysFS had negative value (-1), but there must be at least one NUMA node, so returning NUMA node zero. See more at https://github.com/torvalds/linux/blob/v6.0/Documentation/ABI/testing/sysfs-bus-pci#L344-L355\n",
      "2025-06-22 00:20:32.468754: I external/local_xla/xla/stream_executor/cuda/cuda_executor.cc:901] successful NUMA node read from SysFS had negative value (-1), but there must be at least one NUMA node, so returning NUMA node zero. See more at https://github.com/torvalds/linux/blob/v6.0/Documentation/ABI/testing/sysfs-bus-pci#L344-L355\n"
     ]
    }
   ],
   "source": [
    "# Verificar si detecta GPUs\n",
    "print(\"GPUs disponibles:\", tf.config.list_physical_devices('GPU'))"
   ]
  },
  {
   "cell_type": "code",
   "execution_count": 3,
   "metadata": {
    "colab": {
     "base_uri": "https://localhost:8080/"
    },
    "execution": {
     "iopub.execute_input": "2025-06-22T00:20:32.642907Z",
     "iopub.status.busy": "2025-06-22T00:20:32.642723Z",
     "iopub.status.idle": "2025-06-22T00:20:32.645672Z",
     "shell.execute_reply": "2025-06-22T00:20:32.645255Z",
     "shell.execute_reply.started": "2025-06-22T00:20:32.642892Z"
    },
    "id": "R61HLupYwmR3",
    "outputId": "4f2452d8-29ee-4dc1-8cc5-aaf18965ef84",
    "tags": []
   },
   "outputs": [
    {
     "name": "stdout",
     "output_type": "stream",
     "text": [
      "['train', 'valid', 'test']\n"
     ]
    }
   ],
   "source": [
    "base_dir = './Banana Ripeness Classification Dataset V2'\n",
    "print(os.listdir(base_dir)) # Deberías ver ['train', 'valid', 'test']"
   ]
  },
  {
   "cell_type": "code",
   "execution_count": 4,
   "metadata": {
    "execution": {
     "iopub.execute_input": "2025-06-22T00:20:32.646733Z",
     "iopub.status.busy": "2025-06-22T00:20:32.646571Z",
     "iopub.status.idle": "2025-06-22T00:20:32.649045Z",
     "shell.execute_reply": "2025-06-22T00:20:32.648682Z",
     "shell.execute_reply.started": "2025-06-22T00:20:32.646717Z"
    },
    "id": "8LxThH1uuihX",
    "tags": []
   },
   "outputs": [],
   "source": [
    "lr =\"0001\"\n",
    "Et = \"8\"\n",
    "l_rate = 0.0001\n",
    "Epoch_test = 8"
   ]
  },
  {
   "cell_type": "code",
   "execution_count": 5,
   "metadata": {
    "execution": {
     "iopub.execute_input": "2025-06-22T00:20:32.649792Z",
     "iopub.status.busy": "2025-06-22T00:20:32.649641Z",
     "iopub.status.idle": "2025-06-22T00:20:32.653027Z",
     "shell.execute_reply": "2025-06-22T00:20:32.652687Z",
     "shell.execute_reply.started": "2025-06-22T00:20:32.649778Z"
    },
    "id": "Pdc2GLHNuihY"
   },
   "outputs": [],
   "source": [
    "def save_test_accuracy(experiment_name, test_accuracy, filename='test_accuracy_log.csv'):\n",
    "    new_entry = pd.DataFrame([{\n",
    "        'experiment': experiment_name,\n",
    "        'test_accuracy': test_accuracy\n",
    "    }])\n",
    "\n",
    "    if os.path.exists(filename):\n",
    "        df_existing = pd.read_csv(filename)\n",
    "        # Eliminar cualquier fila con el mismo experimento\n",
    "        df_existing = df_existing[df_existing['experiment'] != experiment_name]\n",
    "        # Agregar nueva entrada\n",
    "        df_combined = pd.concat([df_existing, new_entry], ignore_index=True)\n",
    "    else:\n",
    "        df_combined = new_entry\n",
    "\n",
    "    df_combined.to_csv(filename, index=False)\n",
    "    print(f\"Test accuracy for '{experiment_name}' saved to '{filename}'.\")\n"
   ]
  },
  {
   "cell_type": "code",
   "execution_count": 6,
   "metadata": {
    "execution": {
     "iopub.execute_input": "2025-06-22T00:20:32.653724Z",
     "iopub.status.busy": "2025-06-22T00:20:32.653571Z",
     "iopub.status.idle": "2025-06-22T00:20:32.663527Z",
     "shell.execute_reply": "2025-06-22T00:20:32.663034Z",
     "shell.execute_reply.started": "2025-06-22T00:20:32.653710Z"
    },
    "id": "Fnv-6PqjXu_F",
    "tags": []
   },
   "outputs": [],
   "source": [
    "class MetricsLogger(Callback):\n",
    "    def __init__(self, validation_data, experiment_name=None):\n",
    "        super(MetricsLogger, self).__init__()\n",
    "        self.validation_data = validation_data\n",
    "        self.history = []\n",
    "        self.experiment_name = experiment_name\n",
    "        self.epoch_start_time = None\n",
    "\n",
    "    def on_epoch_begin(self, epoch, logs=None):\n",
    "        self.epoch_start_time = time.time()\n",
    "\n",
    "    def on_epoch_end(self, epoch, logs=None):\n",
    "        epoch_duration = time.time() - self.epoch_start_time\n",
    "\n",
    "        val_data, val_labels = self.validation_data\n",
    "        val_preds = self.model.predict(val_data, verbose=0)\n",
    "        val_preds_classes = np.argmax(val_preds, axis=1)\n",
    "        val_true_classes = np.argmax(val_labels, axis=1)\n",
    "\n",
    "        recall = recall_score(val_true_classes, val_preds_classes, average='macro')\n",
    "        f1 = f1_score(val_true_classes, val_preds_classes, average='macro')\n",
    "        mcc = matthews_corrcoef(val_true_classes, val_preds_classes)\n",
    "\n",
    "        logs = logs or {}\n",
    "\n",
    "        # Entrenamiento\n",
    "        train_accuracy = logs.get('accuracy')\n",
    "        train_loss = logs.get('loss')\n",
    "\n",
    "        # Validación\n",
    "        val_accuracy = logs.get('val_accuracy')\n",
    "        val_loss = logs.get('val_loss')\n",
    "\n",
    "        self.history.append({\n",
    "            'experiment': self.experiment_name if self.experiment_name else 'default',\n",
    "            'epoch': epoch + 1,\n",
    "            'accuracy': train_accuracy,\n",
    "            'loss': train_loss,\n",
    "            'val_accuracy': val_accuracy,\n",
    "            'val_loss': val_loss,\n",
    "            'recall': recall,\n",
    "            'f1_score': f1,\n",
    "            'mcc': mcc,\n",
    "            'epoch_time': round(epoch_duration, 2)\n",
    "        })\n",
    "\n",
    "    def save_to_csv(self, filename='metrics_log.csv'):\n",
    "        new_df = pd.DataFrame(self.history)\n",
    "\n",
    "        if os.path.exists(filename):\n",
    "            existing_df = pd.read_csv(filename)\n",
    "\n",
    "            # Eliminar filas con experimentos ya existentes\n",
    "            existing_df = existing_df[~existing_df['experiment'].isin(new_df['experiment'])]\n",
    "\n",
    "            # Combinar con los nuevos datos\n",
    "            combined_df = pd.concat([existing_df, new_df], ignore_index=True)\n",
    "        else:\n",
    "            combined_df = new_df\n",
    "\n",
    "        combined_df.to_csv(filename, index=False)\n",
    "        print(f\"Metrics saved to '{filename}' with {len(new_df)} new rows.\")\n"
   ]
  },
  {
   "cell_type": "code",
   "execution_count": 7,
   "metadata": {
    "colab": {
     "base_uri": "https://localhost:8080/"
    },
    "execution": {
     "iopub.execute_input": "2025-06-22T00:20:32.664382Z",
     "iopub.status.busy": "2025-06-22T00:20:32.664198Z",
     "iopub.status.idle": "2025-06-22T00:20:33.010842Z",
     "shell.execute_reply": "2025-06-22T00:20:33.010271Z",
     "shell.execute_reply.started": "2025-06-22T00:20:32.664366Z"
    },
    "id": "LD0vnrF2xXRi",
    "outputId": "94313836-522a-4f82-8830-70b860a674e9",
    "tags": []
   },
   "outputs": [
    {
     "name": "stdout",
     "output_type": "stream",
     "text": [
      "Found 9440 images belonging to 4 classes.\n",
      "Found 2023 images belonging to 4 classes.\n",
      "Found 2015 images belonging to 4 classes.\n"
     ]
    }
   ],
   "source": [
    "\n",
    "image_size = (224, 224)  # Tamaño compatible con VGG16\n",
    "batch_size = 32\n",
    "\n",
    "train_datagen = ImageDataGenerator(preprocessing_function=preprocess_input,\n",
    "                                   rotation_range=20,\n",
    "                                   width_shift_range=0.2,\n",
    "                                   height_shift_range=0.2,\n",
    "                                   shear_range=0.2,\n",
    "                                   zoom_range=0.2,\n",
    "                                   horizontal_flip=True)\n",
    "\n",
    "valid_test_datagen = ImageDataGenerator(preprocessing_function=preprocess_input)\n",
    "\n",
    "train_generator = train_datagen.flow_from_directory(\n",
    "    os.path.join(base_dir, 'train'),\n",
    "    target_size=image_size,\n",
    "    batch_size=batch_size,\n",
    "    class_mode='categorical'\n",
    ")\n",
    "\n",
    "valid_generator = valid_test_datagen.flow_from_directory(\n",
    "    os.path.join(base_dir, 'valid'),\n",
    "    target_size=image_size,\n",
    "    batch_size=batch_size,\n",
    "    class_mode='categorical',\n",
    ")\n",
    "\n",
    "test_generator = valid_test_datagen.flow_from_directory(\n",
    "    os.path.join(base_dir, 'test'),\n",
    "    target_size=image_size,\n",
    "    batch_size=batch_size,\n",
    "    class_mode='categorical',\n",
    "    shuffle=False  # Importante para la matriz de confusión\n",
    ")\n"
   ]
  },
  {
   "cell_type": "code",
   "execution_count": 8,
   "metadata": {
    "colab": {
     "base_uri": "https://localhost:8080/",
     "height": 970
    },
    "execution": {
     "iopub.execute_input": "2025-06-22T00:20:33.011995Z",
     "iopub.status.busy": "2025-06-22T00:20:33.011827Z",
     "iopub.status.idle": "2025-06-22T00:20:33.688819Z",
     "shell.execute_reply": "2025-06-22T00:20:33.688298Z",
     "shell.execute_reply.started": "2025-06-22T00:20:33.011977Z"
    },
    "id": "xAc9RtSDxp1f",
    "outputId": "90d62263-40dd-4f99-af23-6ab3845bb1ad",
    "tags": []
   },
   "outputs": [
    {
     "name": "stderr",
     "output_type": "stream",
     "text": [
      "2025-06-22 00:20:33.026893: I external/local_xla/xla/stream_executor/cuda/cuda_executor.cc:901] successful NUMA node read from SysFS had negative value (-1), but there must be at least one NUMA node, so returning NUMA node zero. See more at https://github.com/torvalds/linux/blob/v6.0/Documentation/ABI/testing/sysfs-bus-pci#L344-L355\n",
      "2025-06-22 00:20:33.027149: I external/local_xla/xla/stream_executor/cuda/cuda_executor.cc:901] successful NUMA node read from SysFS had negative value (-1), but there must be at least one NUMA node, so returning NUMA node zero. See more at https://github.com/torvalds/linux/blob/v6.0/Documentation/ABI/testing/sysfs-bus-pci#L344-L355\n",
      "2025-06-22 00:20:33.027244: I external/local_xla/xla/stream_executor/cuda/cuda_executor.cc:901] successful NUMA node read from SysFS had negative value (-1), but there must be at least one NUMA node, so returning NUMA node zero. See more at https://github.com/torvalds/linux/blob/v6.0/Documentation/ABI/testing/sysfs-bus-pci#L344-L355\n",
      "2025-06-22 00:20:33.100803: I external/local_xla/xla/stream_executor/cuda/cuda_executor.cc:901] successful NUMA node read from SysFS had negative value (-1), but there must be at least one NUMA node, so returning NUMA node zero. See more at https://github.com/torvalds/linux/blob/v6.0/Documentation/ABI/testing/sysfs-bus-pci#L344-L355\n",
      "2025-06-22 00:20:33.100964: I external/local_xla/xla/stream_executor/cuda/cuda_executor.cc:901] successful NUMA node read from SysFS had negative value (-1), but there must be at least one NUMA node, so returning NUMA node zero. See more at https://github.com/torvalds/linux/blob/v6.0/Documentation/ABI/testing/sysfs-bus-pci#L344-L355\n",
      "2025-06-22 00:20:33.101070: I external/local_xla/xla/stream_executor/cuda/cuda_executor.cc:901] successful NUMA node read from SysFS had negative value (-1), but there must be at least one NUMA node, so returning NUMA node zero. See more at https://github.com/torvalds/linux/blob/v6.0/Documentation/ABI/testing/sysfs-bus-pci#L344-L355\n",
      "2025-06-22 00:20:33.101149: I tensorflow/core/common_runtime/gpu/gpu_device.cc:1929] Created device /job:localhost/replica:0/task:0/device:GPU:0 with 14401 MB memory:  -> device: 0, name: NVIDIA RTX A4000, pci bus id: 0000:00:05.0, compute capability: 8.6\n"
     ]
    },
    {
     "name": "stdout",
     "output_type": "stream",
     "text": [
      "Model: \"model\"\n",
      "_________________________________________________________________\n",
      " Layer (type)                Output Shape              Param #   \n",
      "=================================================================\n",
      " input_1 (InputLayer)        [(None, 224, 224, 3)]     0         \n",
      "                                                                 \n",
      " block1_conv1 (Conv2D)       (None, 224, 224, 64)      1792      \n",
      "                                                                 \n",
      " block1_conv2 (Conv2D)       (None, 224, 224, 64)      36928     \n",
      "                                                                 \n",
      " block1_pool (MaxPooling2D)  (None, 112, 112, 64)      0         \n",
      "                                                                 \n",
      " block2_conv1 (Conv2D)       (None, 112, 112, 128)     73856     \n",
      "                                                                 \n",
      " block2_conv2 (Conv2D)       (None, 112, 112, 128)     147584    \n",
      "                                                                 \n",
      " block2_pool (MaxPooling2D)  (None, 56, 56, 128)       0         \n",
      "                                                                 \n",
      " block3_conv1 (Conv2D)       (None, 56, 56, 256)       295168    \n",
      "                                                                 \n",
      " block3_conv2 (Conv2D)       (None, 56, 56, 256)       590080    \n",
      "                                                                 \n",
      " block3_conv3 (Conv2D)       (None, 56, 56, 256)       590080    \n",
      "                                                                 \n",
      " block3_pool (MaxPooling2D)  (None, 28, 28, 256)       0         \n",
      "                                                                 \n",
      " block4_conv1 (Conv2D)       (None, 28, 28, 512)       1180160   \n",
      "                                                                 \n",
      " block4_conv2 (Conv2D)       (None, 28, 28, 512)       2359808   \n",
      "                                                                 \n",
      " block4_conv3 (Conv2D)       (None, 28, 28, 512)       2359808   \n",
      "                                                                 \n",
      " block4_pool (MaxPooling2D)  (None, 14, 14, 512)       0         \n",
      "                                                                 \n",
      " block5_conv1 (Conv2D)       (None, 14, 14, 512)       2359808   \n",
      "                                                                 \n",
      " block5_conv2 (Conv2D)       (None, 14, 14, 512)       2359808   \n",
      "                                                                 \n",
      " block5_conv3 (Conv2D)       (None, 14, 14, 512)       2359808   \n",
      "                                                                 \n",
      " block5_pool (MaxPooling2D)  (None, 7, 7, 512)         0         \n",
      "                                                                 \n",
      " global_average_pooling2d (  (None, 512)               0         \n",
      " GlobalAveragePooling2D)                                         \n",
      "                                                                 \n",
      " dense (Dense)               (None, 128)               65664     \n",
      "                                                                 \n",
      " dropout (Dropout)           (None, 128)               0         \n",
      "                                                                 \n",
      " dense_1 (Dense)             (None, 4)                 516       \n",
      "                                                                 \n",
      "=================================================================\n",
      "Total params: 14780868 (56.38 MB)\n",
      "Trainable params: 66180 (258.52 KB)\n",
      "Non-trainable params: 14714688 (56.13 MB)\n",
      "_________________________________________________________________\n"
     ]
    }
   ],
   "source": [
    "base_model = VGG16(weights='imagenet', include_top=False, input_shape=(224, 224, 3))\n",
    "base_model.trainable = False  # Congelar pesos de VGG16\n",
    "\n",
    "x = base_model.output\n",
    "x = GlobalAveragePooling2D()(x)\n",
    "x = Dense(128, activation='relu')(x)\n",
    "x = Dropout(0.5)(x)\n",
    "predictions = Dense(4, activation='softmax')(x)\n",
    "\n",
    "model = Model(inputs=base_model.input, outputs=predictions)\n",
    "model.compile(optimizer=Adam(learning_rate= l_rate),\n",
    "              loss='categorical_crossentropy',\n",
    "              metrics=['accuracy'])\n",
    "\n",
    "model.summary()"
   ]
  },
  {
   "cell_type": "code",
   "execution_count": 9,
   "metadata": {
    "execution": {
     "iopub.execute_input": "2025-06-22T00:20:33.690549Z",
     "iopub.status.busy": "2025-06-22T00:20:33.689951Z",
     "iopub.status.idle": "2025-06-22T00:20:37.115340Z",
     "shell.execute_reply": "2025-06-22T00:20:37.114729Z",
     "shell.execute_reply.started": "2025-06-22T00:20:33.690524Z"
    },
    "id": "5uoEWx8xu9n3"
   },
   "outputs": [],
   "source": [
    "def generator_to_arrays(generator):\n",
    "    X_list, y_list = [], []\n",
    "    for i in range(len(generator)):\n",
    "        x, y = generator[i]\n",
    "        X_list.append(x)  # <- aquí\n",
    "        y_list.append(y)\n",
    "    return np.concatenate(X_list), np.concatenate(y_list)\n",
    "\n",
    "X_val, y_val = generator_to_arrays(valid_generator)\n",
    "# Crear callback personalizado\n",
    "metrics_logger = MetricsLogger(validation_data=(X_val, y_val), experiment_name=f'vgg16_{l_rate}_{Epoch_test}')"
   ]
  },
  {
   "cell_type": "code",
   "execution_count": 10,
   "metadata": {
    "colab": {
     "base_uri": "https://localhost:8080/"
    },
    "execution": {
     "iopub.execute_input": "2025-06-22T00:20:37.116478Z",
     "iopub.status.busy": "2025-06-22T00:20:37.116091Z",
     "iopub.status.idle": "2025-06-22T00:32:36.884475Z",
     "shell.execute_reply": "2025-06-22T00:32:36.884021Z",
     "shell.execute_reply.started": "2025-06-22T00:20:37.116461Z"
    },
    "id": "C9JgwbZnxvjK",
    "outputId": "957ca4d6-04ee-4a75-c145-cc02a0d06c1c",
    "tags": []
   },
   "outputs": [
    {
     "name": "stdout",
     "output_type": "stream",
     "text": [
      "Epoch 1/8\n"
     ]
    },
    {
     "name": "stderr",
     "output_type": "stream",
     "text": [
      "2025-06-22 00:20:38.507816: I external/local_xla/xla/stream_executor/cuda/cuda_dnn.cc:454] Loaded cuDNN version 8907\n",
      "2025-06-22 00:20:42.386477: I external/local_xla/xla/service/service.cc:168] XLA service 0x7fa6dc322220 initialized for platform CUDA (this does not guarantee that XLA will be used). Devices:\n",
      "2025-06-22 00:20:42.386477: I external/local_xla/xla/service/service.cc:176]   StreamExecutor device (0): NVIDIA RTX A4000, Compute Capability 8.6\n",
      "2025-06-22 00:20:42.392000: I tensorflow/compiler/mlir/tensorflow/utils/dump_mlir_util.cc:269] disabling MLIR crash reproducer, set env var `MLIR_CRASH_REPRODUCER_DIRECTORY` to enable.\n",
      "WARNING: All log messages before absl::InitializeLog() is called are written to STDERR\n",
      "I0000 00:00:1750551642.483367    3913 device_compiler.h:186] Compiled cluster using XLA!  This line is logged at most once for the lifetime of the process.\n"
     ]
    },
    {
     "name": "stdout",
     "output_type": "stream",
     "text": [
      "295/295 [==============================] - 88s 280ms/step - loss: 3.0601 - accuracy: 0.5495 - val_loss: 0.4988 - val_accuracy: 0.8473\n",
      "Epoch 2/8\n",
      "295/295 [==============================] - 83s 281ms/step - loss: 0.7914 - accuracy: 0.7858 - val_loss: 0.2539 - val_accuracy: 0.9130\n",
      "Epoch 3/8\n",
      "295/295 [==============================] - 81s 274ms/step - loss: 0.5037 - accuracy: 0.8465 - val_loss: 0.2322 - val_accuracy: 0.9145\n",
      "Epoch 4/8\n",
      "295/295 [==============================] - 83s 279ms/step - loss: 0.3960 - accuracy: 0.8601 - val_loss: 0.1939 - val_accuracy: 0.9298\n",
      "Epoch 5/8\n",
      "295/295 [==============================] - 82s 276ms/step - loss: 0.3398 - accuracy: 0.8855 - val_loss: 0.1631 - val_accuracy: 0.9432\n",
      "Epoch 6/8\n",
      "295/295 [==============================] - 81s 273ms/step - loss: 0.3024 - accuracy: 0.8933 - val_loss: 0.1585 - val_accuracy: 0.9471\n",
      "Epoch 7/8\n",
      "295/295 [==============================] - 83s 280ms/step - loss: 0.2896 - accuracy: 0.9003 - val_loss: 0.1407 - val_accuracy: 0.9560\n",
      "Epoch 8/8\n",
      "295/295 [==============================] - 81s 275ms/step - loss: 0.2590 - accuracy: 0.9106 - val_loss: 0.1374 - val_accuracy: 0.9550\n",
      "Metrics saved to 'resultados_modelos.csv' with 8 new rows.\n"
     ]
    }
   ],
   "source": [
    "with tf.device('/GPU:0'):\n",
    "  history = model.fit(\n",
    "      train_generator,\n",
    "      epochs=Epoch_test,\n",
    "      validation_data=valid_generator,\n",
    "      callbacks=[metrics_logger]\n",
    "  )\n",
    "\n",
    "metrics_logger.save_to_csv('resultados_modelos.csv')"
   ]
  },
  {
   "cell_type": "code",
   "execution_count": 11,
   "metadata": {
    "colab": {
     "base_uri": "https://localhost:8080/",
     "height": 840
    },
    "execution": {
     "iopub.execute_input": "2025-06-22T00:32:36.885800Z",
     "iopub.status.busy": "2025-06-22T00:32:36.885636Z",
     "iopub.status.idle": "2025-06-22T00:32:44.448538Z",
     "shell.execute_reply": "2025-06-22T00:32:44.448119Z",
     "shell.execute_reply.started": "2025-06-22T00:32:36.885785Z"
    },
    "id": "V2HZyRhaTGMa",
    "outputId": "c5295e83-2f21-4793-abf3-06ddcbbe6578"
   },
   "outputs": [
    {
     "name": "stdout",
     "output_type": "stream",
     "text": [
      "63/63 [==============================] - 7s 112ms/step\n",
      "Classification Report\n",
      "              precision    recall  f1-score   support\n",
      "\n",
      "    overripe       0.98      0.95      0.96       479\n",
      "        ripe       0.93      0.91      0.92       520\n",
      "      rotten       0.90      0.95      0.93       541\n",
      "      unripe       1.00      0.99      0.99       475\n",
      "\n",
      "    accuracy                           0.95      2015\n",
      "   macro avg       0.95      0.95      0.95      2015\n",
      "weighted avg       0.95      0.95      0.95      2015\n",
      "\n",
      "Confusion Matrix\n"
     ]
    },
    {
     "data": {
      "image/png": "[encoded data removed]",
      "text/plain": [
       "<Figure size 800x600 with 2 Axes>"
      ]
     },
     "metadata": {},
     "output_type": "display_data"
    }
   ],
   "source": [
    "# Predicciones\n",
    "Y_pred = model.predict(test_generator)\n",
    "y_pred = np.argmax(Y_pred, axis=1)\n",
    "\n",
    "# Reporte y matriz de confusión\n",
    "print('Classification Report')\n",
    "print(classification_report(test_generator.classes, y_pred, target_names=test_generator.class_indices.keys()))\n",
    "\n",
    "print('Confusion Matrix')\n",
    "cm = confusion_matrix(test_generator.classes, y_pred)\n",
    "\n",
    "# Visualizar la matriz\n",
    "plt.figure(figsize=(8,6))\n",
    "sns.heatmap(cm, annot=True, fmt='d', xticklabels=test_generator.class_indices.keys(),\n",
    "            yticklabels=test_generator.class_indices.keys(), cmap='Blues')\n",
    "plt.title(f\"Resultados modelo VGG16 learning_rate={l_rate} epoch={Epoch_test} \")\n",
    "plt.xlabel('Predicted')\n",
    "plt.ylabel('True')\n",
    "plt.savefig(f'Matrices de confusion/VGG16/matriz_confusion_lr{lr}_epoch{Et}.png', bbox_inches='tight')\n",
    "plt.show()\n"
   ]
  },
  {
   "cell_type": "code",
   "execution_count": 12,
   "metadata": {
    "execution": {
     "iopub.execute_input": "2025-06-22T00:32:44.450192Z",
     "iopub.status.busy": "2025-06-22T00:32:44.449396Z",
     "iopub.status.idle": "2025-06-22T00:32:44.485940Z",
     "shell.execute_reply": "2025-06-22T00:32:44.485535Z",
     "shell.execute_reply.started": "2025-06-22T00:32:44.450173Z"
    },
    "id": "a2ioUh2Huihk",
    "outputId": "3baaa84b-edc7-463b-a7ed-eb2df82e0298"
   },
   "outputs": [
    {
     "name": "stdout",
     "output_type": "stream",
     "text": [
      "Test accuracy for 'vgg16_0.0001_8' saved to 'test_accuracy_log.csv'.\n"
     ]
    }
   ],
   "source": [
    "from sklearn.metrics import accuracy_score\n",
    "\n",
    "test_accuracy = accuracy_score(test_generator.classes, y_pred)\n",
    "experiment_name = f'vgg16_{l_rate}_{Epoch_test}'\n",
    "\n",
    "save_test_accuracy(experiment_name, test_accuracy)"
   ]
  },
  {
   "cell_type": "code",
   "execution_count": 13,
   "metadata": {
    "colab": {
     "base_uri": "https://localhost:8080/",
     "height": 54
    },
    "execution": {
     "iopub.execute_input": "2025-06-22T00:32:44.486907Z",
     "iopub.status.busy": "2025-06-22T00:32:44.486568Z",
     "iopub.status.idle": "2025-06-22T00:32:44.620179Z",
     "shell.execute_reply": "2025-06-22T00:32:44.619813Z",
     "shell.execute_reply.started": "2025-06-22T00:32:44.486888Z"
    },
    "id": "0OsV606EUthB",
    "outputId": "9c528975-8387-456b-e736-60ec4ce51b0b"
   },
   "outputs": [
    {
     "name": "stdout",
     "output_type": "stream",
     "text": [
      "saved model\n"
     ]
    },
    {
     "name": "stderr",
     "output_type": "stream",
     "text": [
      "/usr/local/lib/python3.11/dist-packages/keras/src/engine/training.py:3103: UserWarning: You are saving your model as an HDF5 file via `model.save()`. This file format is considered legacy. We recommend using instead the native Keras format, e.g. `model.save('my_model.keras')`.\n",
      "  saving_api.save_model(\n"
     ]
    }
   ],
   "source": [
    "#from google.colab import files\n",
    "\n",
    "# Guarda el modelo localmente en Colab\n",
    "model.save(f'modelos/VGG16_{lr}_{Et}.h5')\n",
    "print(\"saved model\")\n",
    "\n",
    "# Descarga el archivo\n",
    "#files.download('VGG16.h5')"
   ]
  },
  {
   "cell_type": "code",
   "execution_count": null,
   "metadata": {},
   "outputs": [],
   "source": []
  }
 ],
 "metadata": {
  "accelerator": "GPU",
  "colab": {
   "gpuType": "T4",
   "provenance": [
    {
     "file_id": "11DcVojyeUj4u23dwHyqOvfsOF8vLvURs",
     "timestamp": 1749996805346
    },
    {
     "file_id": "12bmNfZDuNZ-zLeizLezrU9xP5ZjKOL3Z",
     "timestamp": 1749996619229
    }
   ]
  },
  "kernelspec": {
   "display_name": "Python 3 (ipykernel)",
   "language": "python",
   "name": "python3"
  },
  "language_info": {
   "codemirror_mode": {
    "name": "ipython",
    "version": 3
   },
   "file_extension": ".py",
   "mimetype": "text/x-python",
   "name": "python",
   "nbconvert_exporter": "python",
   "pygments_lexer": "ipython3",
   "version": "3.11.7"
  }
 },
 "nbformat": 4,
 "nbformat_minor": 4
}
