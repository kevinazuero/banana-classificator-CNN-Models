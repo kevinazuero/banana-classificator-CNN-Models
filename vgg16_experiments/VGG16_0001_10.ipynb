{
 "cells": [
  {
   "cell_type": "code",
   "execution_count": 1,
   "metadata": {
    "colab": {
     "base_uri": "https://localhost:8080/"
    },
    "execution": {
     "iopub.execute_input": "2025-06-21T23:35:53.356089Z",
     "iopub.status.busy": "2025-06-21T23:35:53.355602Z",
     "iopub.status.idle": "2025-06-21T23:35:55.820641Z",
     "shell.execute_reply": "2025-06-21T23:35:55.820220Z",
     "shell.execute_reply.started": "2025-06-21T23:35:53.356064Z"
    },
    "id": "UjN0F5jMwhLf",
    "outputId": "7bde402c-8f68-4257-d67f-ac66f7137aa0",
    "tags": []
   },
   "outputs": [
    {
     "name": "stderr",
     "output_type": "stream",
     "text": [
      "2025-06-21 23:35:54.245155: E external/local_xla/xla/stream_executor/cuda/cuda_dnn.cc:9261] Unable to register cuDNN factory: Attempting to register factory for plugin cuDNN when one has already been registered\n",
      "2025-06-21 23:35:54.245210: E external/local_xla/xla/stream_executor/cuda/cuda_fft.cc:607] Unable to register cuFFT factory: Attempting to register factory for plugin cuFFT when one has already been registered\n",
      "2025-06-21 23:35:54.246525: E external/local_xla/xla/stream_executor/cuda/cuda_blas.cc:1515] Unable to register cuBLAS factory: Attempting to register factory for plugin cuBLAS when one has already been registered\n",
      "2025-06-21 23:35:54.253516: I tensorflow/core/platform/cpu_feature_guard.cc:182] This TensorFlow binary is optimized to use available CPU instructions in performance-critical operations.\n",
      "To enable the following instructions: AVX2 FMA, in other operations, rebuild TensorFlow with the appropriate compiler flags.\n",
      "2025-06-21 23:35:54.996971: W tensorflow/compiler/tf2tensorrt/utils/py_utils.cc:38] TF-TRT Warning: Could not find TensorRT\n"
     ]
    }
   ],
   "source": [
    "import zipfile\n",
    "import os\n",
    "import numpy as np\n",
    "import pandas as pd\n",
    "from sklearn.metrics import recall_score, f1_score, matthews_corrcoef\n",
    "from tensorflow.keras.callbacks import Callback\n",
    "from tensorflow.keras.preprocessing.image import ImageDataGenerator\n",
    "from tensorflow.keras.applications.vgg16 import preprocess_input\n",
    "import time\n",
    "\n",
    "from tensorflow.keras.applications import VGG16\n",
    "from tensorflow.keras.models import Model\n",
    "from tensorflow.keras.layers import Dense, Flatten, Dropout, GlobalAveragePooling2D\n",
    "from tensorflow.keras.optimizers import Adam\n",
    "\n",
    "\n",
    "import numpy as np\n",
    "from sklearn.metrics import classification_report, confusion_matrix\n",
    "import matplotlib.pyplot as plt\n",
    "import seaborn as sns\n",
    "\n",
    "\n",
    "import tensorflow as tf"
   ]
  },
  {
   "cell_type": "code",
   "execution_count": 2,
   "metadata": {
    "execution": {
     "iopub.execute_input": "2025-06-21T23:35:55.822092Z",
     "iopub.status.busy": "2025-06-21T23:35:55.821352Z",
     "iopub.status.idle": "2025-06-21T23:35:55.869955Z",
     "shell.execute_reply": "2025-06-21T23:35:55.869563Z",
     "shell.execute_reply.started": "2025-06-21T23:35:55.822073Z"
    },
    "id": "iW8Xq1X2uihR",
    "outputId": "6b97d83e-da71-41f0-b853-57a5b3d0583d",
    "tags": []
   },
   "outputs": [
    {
     "name": "stdout",
     "output_type": "stream",
     "text": [
      "GPUs disponibles: [PhysicalDevice(name='/physical_device:GPU:0', device_type='GPU')]\n"
     ]
    },
    {
     "name": "stderr",
     "output_type": "stream",
     "text": [
      "2025-06-21 23:35:55.841190: I external/local_xla/xla/stream_executor/cuda/cuda_executor.cc:901] successful NUMA node read from SysFS had negative value (-1), but there must be at least one NUMA node, so returning NUMA node zero. See more at https://github.com/torvalds/linux/blob/v6.0/Documentation/ABI/testing/sysfs-bus-pci#L344-L355\n",
      "2025-06-21 23:35:55.866953: I external/local_xla/xla/stream_executor/cuda/cuda_executor.cc:901] successful NUMA node read from SysFS had negative value (-1), but there must be at least one NUMA node, so returning NUMA node zero. See more at https://github.com/torvalds/linux/blob/v6.0/Documentation/ABI/testing/sysfs-bus-pci#L344-L355\n",
      "2025-06-21 23:35:55.867140: I external/local_xla/xla/stream_executor/cuda/cuda_executor.cc:901] successful NUMA node read from SysFS had negative value (-1), but there must be at least one NUMA node, so returning NUMA node zero. See more at https://github.com/torvalds/linux/blob/v6.0/Documentation/ABI/testing/sysfs-bus-pci#L344-L355\n"
     ]
    }
   ],
   "source": [
    "# Verificar si detecta GPUs\n",
    "print(\"GPUs disponibles:\", tf.config.list_physical_devices('GPU'))"
   ]
  },
  {
   "cell_type": "code",
   "execution_count": 3,
   "metadata": {
    "colab": {
     "base_uri": "https://localhost:8080/"
    },
    "execution": {
     "iopub.execute_input": "2025-06-21T23:35:56.017987Z",
     "iopub.status.busy": "2025-06-21T23:35:55.870433Z",
     "iopub.status.idle": "2025-06-21T23:35:56.021249Z",
     "shell.execute_reply": "2025-06-21T23:35:56.020927Z",
     "shell.execute_reply.started": "2025-06-21T23:35:56.017950Z"
    },
    "id": "R61HLupYwmR3",
    "outputId": "4f2452d8-29ee-4dc1-8cc5-aaf18965ef84",
    "tags": []
   },
   "outputs": [
    {
     "name": "stdout",
     "output_type": "stream",
     "text": [
      "['train', 'valid', 'test']\n"
     ]
    }
   ],
   "source": [
    "base_dir = './Banana Ripeness Classification Dataset V2'\n",
    "print(os.listdir(base_dir)) # Deberías ver ['train', 'valid', 'test']"
   ]
  },
  {
   "cell_type": "code",
   "execution_count": 4,
   "metadata": {
    "execution": {
     "iopub.execute_input": "2025-06-21T23:35:56.022779Z",
     "iopub.status.busy": "2025-06-21T23:35:56.022321Z",
     "iopub.status.idle": "2025-06-21T23:35:56.024832Z",
     "shell.execute_reply": "2025-06-21T23:35:56.024545Z",
     "shell.execute_reply.started": "2025-06-21T23:35:56.022756Z"
    },
    "id": "8LxThH1uuihX",
    "tags": []
   },
   "outputs": [],
   "source": [
    "lr =\"0001\"\n",
    "Et = \"10\"\n",
    "l_rate = 0.0001\n",
    "Epoch_test = 10"
   ]
  },
  {
   "cell_type": "code",
   "execution_count": 5,
   "metadata": {
    "execution": {
     "iopub.execute_input": "2025-06-21T23:35:56.025903Z",
     "iopub.status.busy": "2025-06-21T23:35:56.025397Z",
     "iopub.status.idle": "2025-06-21T23:35:56.028953Z",
     "shell.execute_reply": "2025-06-21T23:35:56.028661Z",
     "shell.execute_reply.started": "2025-06-21T23:35:56.025903Z"
    },
    "id": "Pdc2GLHNuihY"
   },
   "outputs": [],
   "source": [
    "def save_test_accuracy(experiment_name, test_accuracy, filename='test_accuracy_log.csv'):\n",
    "    new_entry = pd.DataFrame([{\n",
    "        'experiment': experiment_name,\n",
    "        'test_accuracy': test_accuracy\n",
    "    }])\n",
    "\n",
    "    if os.path.exists(filename):\n",
    "        df_existing = pd.read_csv(filename)\n",
    "        # Eliminar cualquier fila con el mismo experimento\n",
    "        df_existing = df_existing[df_existing['experiment'] != experiment_name]\n",
    "        # Agregar nueva entrada\n",
    "        df_combined = pd.concat([df_existing, new_entry], ignore_index=True)\n",
    "    else:\n",
    "        df_combined = new_entry\n",
    "\n",
    "    df_combined.to_csv(filename, index=False)\n",
    "    print(f\"Test accuracy for '{experiment_name}' saved to '{filename}'.\")\n"
   ]
  },
  {
   "cell_type": "code",
   "execution_count": 6,
   "metadata": {
    "execution": {
     "iopub.execute_input": "2025-06-21T23:35:56.029887Z",
     "iopub.status.busy": "2025-06-21T23:35:56.029471Z",
     "iopub.status.idle": "2025-06-21T23:35:56.035268Z",
     "shell.execute_reply": "2025-06-21T23:35:56.034995Z",
     "shell.execute_reply.started": "2025-06-21T23:35:56.029887Z"
    },
    "id": "Fnv-6PqjXu_F",
    "tags": []
   },
   "outputs": [],
   "source": [
    "class MetricsLogger(Callback):\n",
    "    def __init__(self, validation_data, experiment_name=None):\n",
    "        super(MetricsLogger, self).__init__()\n",
    "        self.validation_data = validation_data\n",
    "        self.history = []\n",
    "        self.experiment_name = experiment_name\n",
    "        self.epoch_start_time = None\n",
    "\n",
    "    def on_epoch_begin(self, epoch, logs=None):\n",
    "        self.epoch_start_time = time.time()\n",
    "\n",
    "    def on_epoch_end(self, epoch, logs=None):\n",
    "        epoch_duration = time.time() - self.epoch_start_time\n",
    "\n",
    "        val_data, val_labels = self.validation_data\n",
    "        val_preds = self.model.predict(val_data, verbose=0)\n",
    "        val_preds_classes = np.argmax(val_preds, axis=1)\n",
    "        val_true_classes = np.argmax(val_labels, axis=1)\n",
    "\n",
    "        recall = recall_score(val_true_classes, val_preds_classes, average='macro')\n",
    "        f1 = f1_score(val_true_classes, val_preds_classes, average='macro')\n",
    "        mcc = matthews_corrcoef(val_true_classes, val_preds_classes)\n",
    "\n",
    "        logs = logs or {}\n",
    "\n",
    "        # Entrenamiento\n",
    "        train_accuracy = logs.get('accuracy')\n",
    "        train_loss = logs.get('loss')\n",
    "\n",
    "        # Validación\n",
    "        val_accuracy = logs.get('val_accuracy')\n",
    "        val_loss = logs.get('val_loss')\n",
    "\n",
    "        self.history.append({\n",
    "            'experiment': self.experiment_name if self.experiment_name else 'default',\n",
    "            'epoch': epoch + 1,\n",
    "            'accuracy': train_accuracy,\n",
    "            'loss': train_loss,\n",
    "            'val_accuracy': val_accuracy,\n",
    "            'val_loss': val_loss,\n",
    "            'recall': recall,\n",
    "            'f1_score': f1,\n",
    "            'mcc': mcc,\n",
    "            'epoch_time': round(epoch_duration, 2)\n",
    "        })\n",
    "\n",
    "    def save_to_csv(self, filename='metrics_log.csv'):\n",
    "        new_df = pd.DataFrame(self.history)\n",
    "\n",
    "        if os.path.exists(filename):\n",
    "            existing_df = pd.read_csv(filename)\n",
    "\n",
    "            # Eliminar filas con experimentos ya existentes\n",
    "            existing_df = existing_df[~existing_df['experiment'].isin(new_df['experiment'])]\n",
    "\n",
    "            # Combinar con los nuevos datos\n",
    "            combined_df = pd.concat([existing_df, new_df], ignore_index=True)\n",
    "        else:\n",
    "            combined_df = new_df\n",
    "\n",
    "        combined_df.to_csv(filename, index=False)\n",
    "        print(f\"Metrics saved to '{filename}' with {len(new_df)} new rows.\")\n"
   ]
  },
  {
   "cell_type": "code",
   "execution_count": 7,
   "metadata": {
    "colab": {
     "base_uri": "https://localhost:8080/"
    },
    "execution": {
     "iopub.execute_input": "2025-06-21T23:35:56.036140Z",
     "iopub.status.busy": "2025-06-21T23:35:56.035719Z",
     "iopub.status.idle": "2025-06-21T23:35:56.395941Z",
     "shell.execute_reply": "2025-06-21T23:35:56.395524Z",
     "shell.execute_reply.started": "2025-06-21T23:35:56.036123Z"
    },
    "id": "LD0vnrF2xXRi",
    "outputId": "94313836-522a-4f82-8830-70b860a674e9",
    "tags": []
   },
   "outputs": [
    {
     "name": "stdout",
     "output_type": "stream",
     "text": [
      "Found 9440 images belonging to 4 classes.\n",
      "Found 2023 images belonging to 4 classes.\n",
      "Found 2015 images belonging to 4 classes.\n"
     ]
    }
   ],
   "source": [
    "\n",
    "image_size = (224, 224)  # Tamaño compatible con VGG16\n",
    "batch_size = 32\n",
    "\n",
    "train_datagen = ImageDataGenerator(preprocessing_function=preprocess_input,\n",
    "                                   rotation_range=20,\n",
    "                                   width_shift_range=0.2,\n",
    "                                   height_shift_range=0.2,\n",
    "                                   shear_range=0.2,\n",
    "                                   zoom_range=0.2,\n",
    "                                   horizontal_flip=True)\n",
    "\n",
    "valid_test_datagen = ImageDataGenerator(preprocessing_function=preprocess_input)\n",
    "\n",
    "train_generator = train_datagen.flow_from_directory(\n",
    "    os.path.join(base_dir, 'train'),\n",
    "    target_size=image_size,\n",
    "    batch_size=batch_size,\n",
    "    class_mode='categorical'\n",
    ")\n",
    "\n",
    "valid_generator = valid_test_datagen.flow_from_directory(\n",
    "    os.path.join(base_dir, 'valid'),\n",
    "    target_size=image_size,\n",
    "    batch_size=batch_size,\n",
    "    class_mode='categorical',\n",
    ")\n",
    "\n",
    "test_generator = valid_test_datagen.flow_from_directory(\n",
    "    os.path.join(base_dir, 'test'),\n",
    "    target_size=image_size,\n",
    "    batch_size=batch_size,\n",
    "    class_mode='categorical',\n",
    "    shuffle=False  # Importante para la matriz de confusión\n",
    ")\n"
   ]
  },
  {
   "cell_type": "code",
   "execution_count": 8,
   "metadata": {
    "colab": {
     "base_uri": "https://localhost:8080/",
     "height": 970
    },
    "execution": {
     "iopub.execute_input": "2025-06-21T23:35:56.397120Z",
     "iopub.status.busy": "2025-06-21T23:35:56.396519Z",
     "iopub.status.idle": "2025-06-21T23:35:57.082915Z",
     "shell.execute_reply": "2025-06-21T23:35:57.082406Z",
     "shell.execute_reply.started": "2025-06-21T23:35:56.397093Z"
    },
    "id": "xAc9RtSDxp1f",
    "outputId": "90d62263-40dd-4f99-af23-6ab3845bb1ad",
    "tags": []
   },
   "outputs": [
    {
     "name": "stderr",
     "output_type": "stream",
     "text": [
      "2025-06-21 23:35:56.413621: I external/local_xla/xla/stream_executor/cuda/cuda_executor.cc:901] successful NUMA node read from SysFS had negative value (-1), but there must be at least one NUMA node, so returning NUMA node zero. See more at https://github.com/torvalds/linux/blob/v6.0/Documentation/ABI/testing/sysfs-bus-pci#L344-L355\n",
      "2025-06-21 23:35:56.413855: I external/local_xla/xla/stream_executor/cuda/cuda_executor.cc:901] successful NUMA node read from SysFS had negative value (-1), but there must be at least one NUMA node, so returning NUMA node zero. See more at https://github.com/torvalds/linux/blob/v6.0/Documentation/ABI/testing/sysfs-bus-pci#L344-L355\n",
      "2025-06-21 23:35:56.413947: I external/local_xla/xla/stream_executor/cuda/cuda_executor.cc:901] successful NUMA node read from SysFS had negative value (-1), but there must be at least one NUMA node, so returning NUMA node zero. See more at https://github.com/torvalds/linux/blob/v6.0/Documentation/ABI/testing/sysfs-bus-pci#L344-L355\n",
      "2025-06-21 23:35:56.483429: I external/local_xla/xla/stream_executor/cuda/cuda_executor.cc:901] successful NUMA node read from SysFS had negative value (-1), but there must be at least one NUMA node, so returning NUMA node zero. See more at https://github.com/torvalds/linux/blob/v6.0/Documentation/ABI/testing/sysfs-bus-pci#L344-L355\n",
      "2025-06-21 23:35:56.483581: I external/local_xla/xla/stream_executor/cuda/cuda_executor.cc:901] successful NUMA node read from SysFS had negative value (-1), but there must be at least one NUMA node, so returning NUMA node zero. See more at https://github.com/torvalds/linux/blob/v6.0/Documentation/ABI/testing/sysfs-bus-pci#L344-L355\n",
      "2025-06-21 23:35:56.483683: I external/local_xla/xla/stream_executor/cuda/cuda_executor.cc:901] successful NUMA node read from SysFS had negative value (-1), but there must be at least one NUMA node, so returning NUMA node zero. See more at https://github.com/torvalds/linux/blob/v6.0/Documentation/ABI/testing/sysfs-bus-pci#L344-L355\n",
      "2025-06-21 23:35:56.483766: I tensorflow/core/common_runtime/gpu/gpu_device.cc:1929] Created device /job:localhost/replica:0/task:0/device:GPU:0 with 14401 MB memory:  -> device: 0, name: NVIDIA RTX A4000, pci bus id: 0000:00:05.0, compute capability: 8.6\n"
     ]
    },
    {
     "name": "stdout",
     "output_type": "stream",
     "text": [
      "Model: \"model\"\n",
      "_________________________________________________________________\n",
      " Layer (type)                Output Shape              Param #   \n",
      "=================================================================\n",
      " input_1 (InputLayer)        [(None, 224, 224, 3)]     0         \n",
      "                                                                 \n",
      " block1_conv1 (Conv2D)       (None, 224, 224, 64)      1792      \n",
      "                                                                 \n",
      " block1_conv2 (Conv2D)       (None, 224, 224, 64)      36928     \n",
      "                                                                 \n",
      " block1_pool (MaxPooling2D)  (None, 112, 112, 64)      0         \n",
      "                                                                 \n",
      " block2_conv1 (Conv2D)       (None, 112, 112, 128)     73856     \n",
      "                                                                 \n",
      " block2_conv2 (Conv2D)       (None, 112, 112, 128)     147584    \n",
      "                                                                 \n",
      " block2_pool (MaxPooling2D)  (None, 56, 56, 128)       0         \n",
      "                                                                 \n",
      " block3_conv1 (Conv2D)       (None, 56, 56, 256)       295168    \n",
      "                                                                 \n",
      " block3_conv2 (Conv2D)       (None, 56, 56, 256)       590080    \n",
      "                                                                 \n",
      " block3_conv3 (Conv2D)       (None, 56, 56, 256)       590080    \n",
      "                                                                 \n",
      " block3_pool (MaxPooling2D)  (None, 28, 28, 256)       0         \n",
      "                                                                 \n",
      " block4_conv1 (Conv2D)       (None, 28, 28, 512)       1180160   \n",
      "                                                                 \n",
      " block4_conv2 (Conv2D)       (None, 28, 28, 512)       2359808   \n",
      "                                                                 \n",
      " block4_conv3 (Conv2D)       (None, 28, 28, 512)       2359808   \n",
      "                                                                 \n",
      " block4_pool (MaxPooling2D)  (None, 14, 14, 512)       0         \n",
      "                                                                 \n",
      " block5_conv1 (Conv2D)       (None, 14, 14, 512)       2359808   \n",
      "                                                                 \n",
      " block5_conv2 (Conv2D)       (None, 14, 14, 512)       2359808   \n",
      "                                                                 \n",
      " block5_conv3 (Conv2D)       (None, 14, 14, 512)       2359808   \n",
      "                                                                 \n",
      " block5_pool (MaxPooling2D)  (None, 7, 7, 512)         0         \n",
      "                                                                 \n",
      " global_average_pooling2d (  (None, 512)               0         \n",
      " GlobalAveragePooling2D)                                         \n",
      "                                                                 \n",
      " dense (Dense)               (None, 128)               65664     \n",
      "                                                                 \n",
      " dropout (Dropout)           (None, 128)               0         \n",
      "                                                                 \n",
      " dense_1 (Dense)             (None, 4)                 516       \n",
      "                                                                 \n",
      "=================================================================\n",
      "Total params: 14780868 (56.38 MB)\n",
      "Trainable params: 66180 (258.52 KB)\n",
      "Non-trainable params: 14714688 (56.13 MB)\n",
      "_________________________________________________________________\n"
     ]
    }
   ],
   "source": [
    "base_model = VGG16(weights='imagenet', include_top=False, input_shape=(224, 224, 3))\n",
    "base_model.trainable = False  # Congelar pesos de VGG16\n",
    "\n",
    "x = base_model.output\n",
    "x = GlobalAveragePooling2D()(x)\n",
    "x = Dense(128, activation='relu')(x)\n",
    "x = Dropout(0.5)(x)\n",
    "predictions = Dense(4, activation='softmax')(x)\n",
    "\n",
    "model = Model(inputs=base_model.input, outputs=predictions)\n",
    "model.compile(optimizer=Adam(learning_rate= l_rate),\n",
    "              loss='categorical_crossentropy',\n",
    "              metrics=['accuracy'])\n",
    "\n",
    "model.summary()"
   ]
  },
  {
   "cell_type": "code",
   "execution_count": 9,
   "metadata": {
    "execution": {
     "iopub.execute_input": "2025-06-21T23:35:57.084405Z",
     "iopub.status.busy": "2025-06-21T23:35:57.084121Z",
     "iopub.status.idle": "2025-06-21T23:36:00.731243Z",
     "shell.execute_reply": "2025-06-21T23:36:00.730155Z",
     "shell.execute_reply.started": "2025-06-21T23:35:57.084387Z"
    },
    "id": "5uoEWx8xu9n3"
   },
   "outputs": [],
   "source": [
    "def generator_to_arrays(generator):\n",
    "    X_list, y_list = [], []\n",
    "    for i in range(len(generator)):\n",
    "        x, y = generator[i]\n",
    "        X_list.append(x)  # <- aquí\n",
    "        y_list.append(y)\n",
    "    return np.concatenate(X_list), np.concatenate(y_list)\n",
    "\n",
    "X_val, y_val = generator_to_arrays(valid_generator)\n",
    "# Crear callback personalizado\n",
    "metrics_logger = MetricsLogger(validation_data=(X_val, y_val), experiment_name=f'vgg16_{l_rate}_{Epoch_test}')"
   ]
  },
  {
   "cell_type": "code",
   "execution_count": 10,
   "metadata": {
    "colab": {
     "base_uri": "https://localhost:8080/"
    },
    "execution": {
     "iopub.execute_input": "2025-06-21T23:36:00.732442Z",
     "iopub.status.busy": "2025-06-21T23:36:00.732285Z",
     "iopub.status.idle": "2025-06-21T23:49:50.178781Z",
     "shell.execute_reply": "2025-06-21T23:49:50.178178Z",
     "shell.execute_reply.started": "2025-06-21T23:36:00.732426Z"
    },
    "id": "C9JgwbZnxvjK",
    "outputId": "957ca4d6-04ee-4a75-c145-cc02a0d06c1c",
    "tags": []
   },
   "outputs": [
    {
     "name": "stdout",
     "output_type": "stream",
     "text": [
      "Epoch 1/10\n"
     ]
    },
    {
     "name": "stderr",
     "output_type": "stream",
     "text": [
      "2025-06-21 23:36:01.975986: I external/local_xla/xla/stream_executor/cuda/cuda_dnn.cc:454] Loaded cuDNN version 8907\n",
      "2025-06-21 23:36:05.791489: I external/local_xla/xla/service/service.cc:168] XLA service 0x7fdcbc5ceb30 initialized for platform CUDA (this does not guarantee that XLA will be used). Devices:\n",
      "2025-06-21 23:36:05.791529: I external/local_xla/xla/service/service.cc:176]   StreamExecutor device (0): NVIDIA RTX A4000, Compute Capability 8.6\n",
      "2025-06-21 23:36:05.796993: I tensorflow/compiler/mlir/tensorflow/utils/dump_mlir_util.cc:269] disabling MLIR crash reproducer, set env var `MLIR_CRASH_REPRODUCER_DIRECTORY` to enable.\n",
      "WARNING: All log messages before absl::InitializeLog() is called are written to STDERR\n",
      "I0000 00:00:1750548965.884981    2293 device_compiler.h:186] Compiled cluster using XLA!  This line is logged at most once for the lifetime of the process.\n"
     ]
    },
    {
     "name": "stdout",
     "output_type": "stream",
     "text": [
      "295/295 [==============================] - 87s 278ms/step - loss: 2.2355 - accuracy: 0.5754 - val_loss: 0.3467 - val_accuracy: 0.8804\n",
      "Epoch 2/10\n",
      "295/295 [==============================] - 83s 282ms/step - loss: 0.6345 - accuracy: 0.8021 - val_loss: 0.2099 - val_accuracy: 0.9278\n",
      "Epoch 3/10\n",
      "295/295 [==============================] - 82s 277ms/step - loss: 0.4380 - accuracy: 0.8494 - val_loss: 0.1617 - val_accuracy: 0.9491\n",
      "Epoch 4/10\n",
      "295/295 [==============================] - 82s 276ms/step - loss: 0.3690 - accuracy: 0.8727 - val_loss: 0.1424 - val_accuracy: 0.9535\n",
      "Epoch 5/10\n",
      "295/295 [==============================] - 81s 275ms/step - loss: 0.3286 - accuracy: 0.8834 - val_loss: 0.1264 - val_accuracy: 0.9609\n",
      "Epoch 6/10\n",
      "295/295 [==============================] - 82s 278ms/step - loss: 0.2869 - accuracy: 0.8995 - val_loss: 0.1185 - val_accuracy: 0.9654\n",
      "Epoch 7/10\n",
      "295/295 [==============================] - 82s 277ms/step - loss: 0.2648 - accuracy: 0.9033 - val_loss: 0.1099 - val_accuracy: 0.9639\n",
      "Epoch 8/10\n",
      "295/295 [==============================] - 82s 277ms/step - loss: 0.2463 - accuracy: 0.9110 - val_loss: 0.1080 - val_accuracy: 0.9674\n",
      "Epoch 9/10\n",
      "295/295 [==============================] - 84s 286ms/step - loss: 0.2241 - accuracy: 0.9204 - val_loss: 0.0944 - val_accuracy: 0.9718\n",
      "Epoch 10/10\n",
      "295/295 [==============================] - 84s 283ms/step - loss: 0.2077 - accuracy: 0.9245 - val_loss: 0.0929 - val_accuracy: 0.9708\n",
      "Metrics saved to 'resultados_modelos.csv' with 10 new rows.\n"
     ]
    }
   ],
   "source": [
    "with tf.device('/GPU:0'):\n",
    "  history = model.fit(\n",
    "      train_generator,\n",
    "      epochs=Epoch_test,\n",
    "      validation_data=valid_generator,\n",
    "      callbacks=[metrics_logger]\n",
    "  )\n",
    "\n",
    "metrics_logger.save_to_csv('resultados_modelos.csv')"
   ]
  },
  {
   "cell_type": "code",
   "execution_count": 11,
   "metadata": {
    "colab": {
     "base_uri": "https://localhost:8080/",
     "height": 840
    },
    "execution": {
     "iopub.execute_input": "2025-06-21T23:49:50.180977Z",
     "iopub.status.busy": "2025-06-21T23:49:50.180331Z",
     "iopub.status.idle": "2025-06-21T23:49:58.537674Z",
     "shell.execute_reply": "2025-06-21T23:49:58.537118Z",
     "shell.execute_reply.started": "2025-06-21T23:49:50.180935Z"
    },
    "id": "V2HZyRhaTGMa",
    "outputId": "c5295e83-2f21-4793-abf3-06ddcbbe6578"
   },
   "outputs": [
    {
     "name": "stdout",
     "output_type": "stream",
     "text": [
      "63/63 [==============================] - 8s 123ms/step\n",
      "Classification Report\n",
      "              precision    recall  f1-score   support\n",
      "\n",
      "    overripe       0.98      0.97      0.97       479\n",
      "        ripe       0.95      0.98      0.96       520\n",
      "      rotten       0.97      0.96      0.96       541\n",
      "      unripe       1.00      0.99      0.99       475\n",
      "\n",
      "    accuracy                           0.97      2015\n",
      "   macro avg       0.97      0.97      0.97      2015\n",
      "weighted avg       0.97      0.97      0.97      2015\n",
      "\n",
      "Confusion Matrix\n"
     ]
    },
    {
     "data": {
      "image/png": "[encoded data removed]",
      "text/plain": [
       "<Figure size 800x600 with 2 Axes>"
      ]
     },
     "metadata": {},
     "output_type": "display_data"
    }
   ],
   "source": [
    "# Predicciones\n",
    "Y_pred = model.predict(test_generator)\n",
    "y_pred = np.argmax(Y_pred, axis=1)\n",
    "\n",
    "# Reporte y matriz de confusión\n",
    "print('Classification Report')\n",
    "print(classification_report(test_generator.classes, y_pred, target_names=test_generator.class_indices.keys()))\n",
    "\n",
    "print('Confusion Matrix')\n",
    "cm = confusion_matrix(test_generator.classes, y_pred)\n",
    "\n",
    "# Visualizar la matriz\n",
    "plt.figure(figsize=(8,6))\n",
    "sns.heatmap(cm, annot=True, fmt='d', xticklabels=test_generator.class_indices.keys(),\n",
    "            yticklabels=test_generator.class_indices.keys(), cmap='Blues')\n",
    "plt.title(f\"Resultados modelo VGG16 learning_rate={l_rate} epoch={Epoch_test} \")\n",
    "plt.xlabel('Predicted')\n",
    "plt.ylabel('True')\n",
    "plt.savefig(f'Matrices de confusion/VGG16/matriz_confusion_lr{lr}_epoch{Et}.png', bbox_inches='tight')\n",
    "plt.show()\n"
   ]
  },
  {
   "cell_type": "code",
   "execution_count": 12,
   "metadata": {
    "execution": {
     "iopub.execute_input": "2025-06-21T23:49:58.538632Z",
     "iopub.status.busy": "2025-06-21T23:49:58.538479Z",
     "iopub.status.idle": "2025-06-21T23:49:58.561649Z",
     "shell.execute_reply": "2025-06-21T23:49:58.561104Z",
     "shell.execute_reply.started": "2025-06-21T23:49:58.538617Z"
    },
    "id": "a2ioUh2Huihk",
    "outputId": "3baaa84b-edc7-463b-a7ed-eb2df82e0298"
   },
   "outputs": [
    {
     "name": "stdout",
     "output_type": "stream",
     "text": [
      "Test accuracy for 'vgg16_0.0001_10' saved to 'test_accuracy_log.csv'.\n"
     ]
    }
   ],
   "source": [
    "from sklearn.metrics import accuracy_score\n",
    "\n",
    "test_accuracy = accuracy_score(test_generator.classes, y_pred)\n",
    "experiment_name = f'vgg16_{l_rate}_{Epoch_test}'\n",
    "\n",
    "save_test_accuracy(experiment_name, test_accuracy)"
   ]
  },
  {
   "cell_type": "code",
   "execution_count": 13,
   "metadata": {
    "colab": {
     "base_uri": "https://localhost:8080/",
     "height": 54
    },
    "execution": {
     "iopub.execute_input": "2025-06-21T23:49:58.562391Z",
     "iopub.status.busy": "2025-06-21T23:49:58.562246Z",
     "iopub.status.idle": "2025-06-21T23:49:58.677984Z",
     "shell.execute_reply": "2025-06-21T23:49:58.677384Z",
     "shell.execute_reply.started": "2025-06-21T23:49:58.562376Z"
    },
    "id": "0OsV606EUthB",
    "outputId": "9c528975-8387-456b-e736-60ec4ce51b0b"
   },
   "outputs": [
    {
     "name": "stdout",
     "output_type": "stream",
     "text": [
      "saved model\n"
     ]
    },
    {
     "name": "stderr",
     "output_type": "stream",
     "text": [
      "/usr/local/lib/python3.11/dist-packages/keras/src/engine/training.py:3103: UserWarning: You are saving your model as an HDF5 file via `model.save()`. This file format is considered legacy. We recommend using instead the native Keras format, e.g. `model.save('my_model.keras')`.\n",
      "  saving_api.save_model(\n"
     ]
    }
   ],
   "source": [
    "#from google.colab import files\n",
    "\n",
    "# Guarda el modelo localmente en Colab\n",
    "model.save(f'modelos/VGG16_{lr}_{Et}.h5')\n",
    "print(\"saved model\")\n",
    "\n",
    "# Descarga el archivo\n",
    "#files.download('VGG16.h5')"
   ]
  },
  {
   "cell_type": "code",
   "execution_count": null,
   "metadata": {},
   "outputs": [],
   "source": []
  }
 ],
 "metadata": {
  "accelerator": "GPU",
  "colab": {
   "gpuType": "T4",
   "provenance": [
    {
     "file_id": "12bmNfZDuNZ-zLeizLezrU9xP5ZjKOL3Z",
     "timestamp": 1749996619229
    }
   ]
  },
  "kernelspec": {
   "display_name": "Python 3 (ipykernel)",
   "language": "python",
   "name": "python3"
  },
  "language_info": {
   "codemirror_mode": {
    "name": "ipython",
    "version": 3
   },
   "file_extension": ".py",
   "mimetype": "text/x-python",
   "name": "python",
   "nbconvert_exporter": "python",
   "pygments_lexer": "ipython3",
   "version": "3.11.7"
  }
 },
 "nbformat": 4,
 "nbformat_minor": 4
}
