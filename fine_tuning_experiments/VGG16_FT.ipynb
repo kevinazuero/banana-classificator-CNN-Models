{
 "cells": [
  {
   "cell_type": "code",
   "execution_count": 1,
   "metadata": {
    "colab": {
     "base_uri": "https://localhost:8080/"
    },
    "execution": {
     "iopub.execute_input": "2025-06-24T03:53:30.160833Z",
     "iopub.status.busy": "2025-06-24T03:53:30.160067Z",
     "iopub.status.idle": "2025-06-24T03:53:36.424893Z",
     "shell.execute_reply": "2025-06-24T03:53:36.424249Z",
     "shell.execute_reply.started": "2025-06-24T03:53:30.160782Z"
    },
    "id": "UjN0F5jMwhLf",
    "outputId": "7bde402c-8f68-4257-d67f-ac66f7137aa0",
    "tags": []
   },
   "outputs": [
    {
     "name": "stderr",
     "output_type": "stream",
     "text": [
      "2025-06-24 03:53:33.112229: E external/local_xla/xla/stream_executor/cuda/cuda_dnn.cc:9261] Unable to register cuDNN factory: Attempting to register factory for plugin cuDNN when one has already been registered\n",
      "2025-06-24 03:53:33.112388: E external/local_xla/xla/stream_executor/cuda/cuda_fft.cc:607] Unable to register cuFFT factory: Attempting to register factory for plugin cuFFT when one has already been registered\n",
      "2025-06-24 03:53:33.133255: E external/local_xla/xla/stream_executor/cuda/cuda_blas.cc:1515] Unable to register cuBLAS factory: Attempting to register factory for plugin cuBLAS when one has already been registered\n",
      "2025-06-24 03:53:33.250710: I tensorflow/core/platform/cpu_feature_guard.cc:182] This TensorFlow binary is optimized to use available CPU instructions in performance-critical operations.\n",
      "To enable the following instructions: AVX2 FMA, in other operations, rebuild TensorFlow with the appropriate compiler flags.\n",
      "2025-06-24 03:53:34.786444: W tensorflow/compiler/tf2tensorrt/utils/py_utils.cc:38] TF-TRT Warning: Could not find TensorRT\n"
     ]
    }
   ],
   "source": [
    "import zipfile\n",
    "import os\n",
    "import numpy as np\n",
    "import pandas as pd\n",
    "from sklearn.metrics import recall_score, f1_score, matthews_corrcoef\n",
    "from tensorflow.keras.callbacks import Callback\n",
    "from tensorflow.keras.preprocessing.image import ImageDataGenerator\n",
    "from tensorflow.keras.applications.vgg16 import preprocess_input\n",
    "import time\n",
    "\n",
    "from tensorflow.keras.applications import VGG16\n",
    "from tensorflow.keras.models import Model\n",
    "from tensorflow.keras.layers import Dense, Flatten, Dropout, GlobalAveragePooling2D\n",
    "from tensorflow.keras.optimizers import Adam\n",
    "\n",
    "\n",
    "import numpy as np\n",
    "from sklearn.metrics import classification_report, confusion_matrix\n",
    "import matplotlib.pyplot as plt\n",
    "import seaborn as sns\n",
    "\n",
    "\n",
    "import tensorflow as tf"
   ]
  },
  {
   "cell_type": "code",
   "execution_count": 2,
   "metadata": {
    "execution": {
     "iopub.execute_input": "2025-06-24T03:53:36.426454Z",
     "iopub.status.busy": "2025-06-24T03:53:36.426031Z",
     "iopub.status.idle": "2025-06-24T03:53:36.673627Z",
     "shell.execute_reply": "2025-06-24T03:53:36.672889Z",
     "shell.execute_reply.started": "2025-06-24T03:53:36.426405Z"
    },
    "id": "iW8Xq1X2uihR",
    "outputId": "6b97d83e-da71-41f0-b853-57a5b3d0583d",
    "tags": []
   },
   "outputs": [
    {
     "name": "stdout",
     "output_type": "stream",
     "text": [
      "GPUs disponibles: [PhysicalDevice(name='/physical_device:GPU:0', device_type='GPU')]\n"
     ]
    },
    {
     "name": "stderr",
     "output_type": "stream",
     "text": [
      "2025-06-24 03:53:36.450719: I external/local_xla/xla/stream_executor/cuda/cuda_executor.cc:901] successful NUMA node read from SysFS had negative value (-1), but there must be at least one NUMA node, so returning NUMA node zero. See more at https://github.com/torvalds/linux/blob/v6.0/Documentation/ABI/testing/sysfs-bus-pci#L344-L355\n",
      "2025-06-24 03:53:36.669274: I external/local_xla/xla/stream_executor/cuda/cuda_executor.cc:901] successful NUMA node read from SysFS had negative value (-1), but there must be at least one NUMA node, so returning NUMA node zero. See more at https://github.com/torvalds/linux/blob/v6.0/Documentation/ABI/testing/sysfs-bus-pci#L344-L355\n",
      "2025-06-24 03:53:36.669516: I external/local_xla/xla/stream_executor/cuda/cuda_executor.cc:901] successful NUMA node read from SysFS had negative value (-1), but there must be at least one NUMA node, so returning NUMA node zero. See more at https://github.com/torvalds/linux/blob/v6.0/Documentation/ABI/testing/sysfs-bus-pci#L344-L355\n"
     ]
    }
   ],
   "source": [
    "# Verificar si detecta GPUs\n",
    "print(\"GPUs disponibles:\", tf.config.list_physical_devices('GPU'))"
   ]
  },
  {
   "cell_type": "code",
   "execution_count": 3,
   "metadata": {
    "colab": {
     "base_uri": "https://localhost:8080/"
    },
    "execution": {
     "iopub.execute_input": "2025-06-24T03:53:36.857026Z",
     "iopub.status.busy": "2025-06-24T03:53:36.856702Z",
     "iopub.status.idle": "2025-06-24T03:53:36.861162Z",
     "shell.execute_reply": "2025-06-24T03:53:36.860240Z",
     "shell.execute_reply.started": "2025-06-24T03:53:36.857026Z"
    },
    "id": "R61HLupYwmR3",
    "outputId": "4f2452d8-29ee-4dc1-8cc5-aaf18965ef84",
    "tags": []
   },
   "outputs": [
    {
     "name": "stdout",
     "output_type": "stream",
     "text": [
      "['train', 'valid', 'test']\n"
     ]
    }
   ],
   "source": [
    "base_dir = './Banana Ripeness Classification Dataset V2'\n",
    "print(os.listdir(base_dir)) # Deberías ver ['train', 'valid', 'test']"
   ]
  },
  {
   "cell_type": "code",
   "execution_count": 4,
   "metadata": {
    "execution": {
     "iopub.execute_input": "2025-06-24T03:53:36.862669Z",
     "iopub.status.busy": "2025-06-24T03:53:36.862495Z",
     "iopub.status.idle": "2025-06-24T03:53:36.865819Z",
     "shell.execute_reply": "2025-06-24T03:53:36.864941Z",
     "shell.execute_reply.started": "2025-06-24T03:53:36.862662Z"
    },
    "id": "8LxThH1uuihX",
    "tags": []
   },
   "outputs": [],
   "source": [
    "lr =\"001\"\n",
    "Et = \"12\"\n",
    "l_rate = 0.001\n",
    "Epoch_test = 12"
   ]
  },
  {
   "cell_type": "code",
   "execution_count": 5,
   "metadata": {
    "execution": {
     "iopub.execute_input": "2025-06-24T03:53:36.866689Z",
     "iopub.status.busy": "2025-06-24T03:53:36.866516Z",
     "iopub.status.idle": "2025-06-24T03:53:36.870894Z",
     "shell.execute_reply": "2025-06-24T03:53:36.870073Z",
     "shell.execute_reply.started": "2025-06-24T03:53:36.866660Z"
    },
    "id": "Pdc2GLHNuihY"
   },
   "outputs": [],
   "source": [
    "def save_test_accuracy(experiment_name, test_accuracy, filename='test_accuracy_log.csv'):\n",
    "    new_entry = pd.DataFrame([{\n",
    "        'experiment': experiment_name,\n",
    "        'test_accuracy': test_accuracy\n",
    "    }])\n",
    "\n",
    "    if os.path.exists(filename):\n",
    "        df_existing = pd.read_csv(filename)\n",
    "        # Eliminar cualquier fila con el mismo experimento\n",
    "        df_existing = df_existing[df_existing['experiment'] != experiment_name]\n",
    "        # Agregar nueva entrada\n",
    "        df_combined = pd.concat([df_existing, new_entry], ignore_index=True)\n",
    "    else:\n",
    "        df_combined = new_entry\n",
    "\n",
    "    df_combined.to_csv(filename, index=False)\n",
    "    print(f\"Test accuracy for '{experiment_name}' saved to '{filename}'.\")\n"
   ]
  },
  {
   "cell_type": "code",
   "execution_count": 6,
   "metadata": {
    "colab": {
     "base_uri": "https://localhost:8080/"
    },
    "execution": {
     "iopub.execute_input": "2025-06-24T03:53:36.871596Z",
     "iopub.status.busy": "2025-06-24T03:53:36.871401Z",
     "iopub.status.idle": "2025-06-24T03:53:37.323119Z",
     "shell.execute_reply": "2025-06-24T03:53:37.322668Z",
     "shell.execute_reply.started": "2025-06-24T03:53:36.871589Z"
    },
    "id": "LD0vnrF2xXRi",
    "outputId": "94313836-522a-4f82-8830-70b860a674e9",
    "tags": []
   },
   "outputs": [
    {
     "name": "stdout",
     "output_type": "stream",
     "text": [
      "Found 9440 images belonging to 4 classes.\n",
      "Found 2023 images belonging to 4 classes.\n",
      "Found 2015 images belonging to 4 classes.\n"
     ]
    }
   ],
   "source": [
    "image_size = (224, 224)  # Tamaño compatible con VGG16\n",
    "batch_size = 32\n",
    "\n",
    "train_datagen = ImageDataGenerator(preprocessing_function=preprocess_input,\n",
    "                                   rotation_range=20,\n",
    "                                   width_shift_range=0.2,\n",
    "                                   height_shift_range=0.2,\n",
    "                                   shear_range=0.2,\n",
    "                                   zoom_range=0.2,\n",
    "                                   horizontal_flip=True)\n",
    "\n",
    "valid_test_datagen = ImageDataGenerator(preprocessing_function=preprocess_input)\n",
    "\n",
    "train_generator = train_datagen.flow_from_directory(\n",
    "    os.path.join(base_dir, 'train'),\n",
    "    target_size=image_size,\n",
    "    batch_size=batch_size,\n",
    "    class_mode='categorical'\n",
    ")\n",
    "\n",
    "valid_generator = valid_test_datagen.flow_from_directory(\n",
    "    os.path.join(base_dir, 'valid'),\n",
    "    target_size=image_size,\n",
    "    batch_size=batch_size,\n",
    "    class_mode='categorical',\n",
    ")\n",
    "\n",
    "test_generator = valid_test_datagen.flow_from_directory(\n",
    "    os.path.join(base_dir, 'test'),\n",
    "    target_size=image_size,\n",
    "    batch_size=batch_size,\n",
    "    class_mode='categorical',\n",
    "    shuffle=False  # Importante para la matriz de confusión\n",
    ")\n"
   ]
  },
  {
   "cell_type": "code",
   "execution_count": 7,
   "metadata": {
    "colab": {
     "base_uri": "https://localhost:8080/",
     "height": 970
    },
    "execution": {
     "iopub.execute_input": "2025-06-24T03:53:37.323887Z",
     "iopub.status.busy": "2025-06-24T03:53:37.323714Z",
     "iopub.status.idle": "2025-06-24T03:53:38.529547Z",
     "shell.execute_reply": "2025-06-24T03:53:38.529049Z",
     "shell.execute_reply.started": "2025-06-24T03:53:37.323872Z"
    },
    "id": "xAc9RtSDxp1f",
    "outputId": "90d62263-40dd-4f99-af23-6ab3845bb1ad",
    "tags": []
   },
   "outputs": [
    {
     "name": "stdout",
     "output_type": "stream",
     "text": [
      "Downloading data from https://storage.googleapis.com/tensorflow/keras-applications/vgg16/vgg16_weights_tf_dim_ordering_tf_kernels_notop.h5\n"
     ]
    },
    {
     "name": "stderr",
     "output_type": "stream",
     "text": [
      "2025-06-24 03:53:37.337742: I external/local_xla/xla/stream_executor/cuda/cuda_executor.cc:901] successful NUMA node read from SysFS had negative value (-1), but there must be at least one NUMA node, so returning NUMA node zero. See more at https://github.com/torvalds/linux/blob/v6.0/Documentation/ABI/testing/sysfs-bus-pci#L344-L355\n",
      "2025-06-24 03:53:37.337955: I external/local_xla/xla/stream_executor/cuda/cuda_executor.cc:901] successful NUMA node read from SysFS had negative value (-1), but there must be at least one NUMA node, so returning NUMA node zero. See more at https://github.com/torvalds/linux/blob/v6.0/Documentation/ABI/testing/sysfs-bus-pci#L344-L355\n",
      "2025-06-24 03:53:37.338046: I external/local_xla/xla/stream_executor/cuda/cuda_executor.cc:901] successful NUMA node read from SysFS had negative value (-1), but there must be at least one NUMA node, so returning NUMA node zero. See more at https://github.com/torvalds/linux/blob/v6.0/Documentation/ABI/testing/sysfs-bus-pci#L344-L355\n",
      "2025-06-24 03:53:37.419657: I external/local_xla/xla/stream_executor/cuda/cuda_executor.cc:901] successful NUMA node read from SysFS had negative value (-1), but there must be at least one NUMA node, so returning NUMA node zero. See more at https://github.com/torvalds/linux/blob/v6.0/Documentation/ABI/testing/sysfs-bus-pci#L344-L355\n",
      "2025-06-24 03:53:37.419879: I external/local_xla/xla/stream_executor/cuda/cuda_executor.cc:901] successful NUMA node read from SysFS had negative value (-1), but there must be at least one NUMA node, so returning NUMA node zero. See more at https://github.com/torvalds/linux/blob/v6.0/Documentation/ABI/testing/sysfs-bus-pci#L344-L355\n",
      "2025-06-24 03:53:37.420095: I external/local_xla/xla/stream_executor/cuda/cuda_executor.cc:901] successful NUMA node read from SysFS had negative value (-1), but there must be at least one NUMA node, so returning NUMA node zero. See more at https://github.com/torvalds/linux/blob/v6.0/Documentation/ABI/testing/sysfs-bus-pci#L344-L355\n",
      "2025-06-24 03:53:37.420198: I tensorflow/core/common_runtime/gpu/gpu_device.cc:1929] Created device /job:localhost/replica:0/task:0/device:GPU:0 with 14401 MB memory:  -> device: 0, name: NVIDIA RTX A4000, pci bus id: 0000:00:05.0, compute capability: 8.6\n"
     ]
    },
    {
     "name": "stdout",
     "output_type": "stream",
     "text": [
      "58889256/58889256 [==============================] - 0s 0us/step\n",
      "Model: \"model\"\n",
      "_________________________________________________________________\n",
      " Layer (type)                Output Shape              Param #   \n",
      "=================================================================\n",
      " input_1 (InputLayer)        [(None, 224, 224, 3)]     0         \n",
      "                                                                 \n",
      " block1_conv1 (Conv2D)       (None, 224, 224, 64)      1792      \n",
      "                                                                 \n",
      " block1_conv2 (Conv2D)       (None, 224, 224, 64)      36928     \n",
      "                                                                 \n",
      " block1_pool (MaxPooling2D)  (None, 112, 112, 64)      0         \n",
      "                                                                 \n",
      " block2_conv1 (Conv2D)       (None, 112, 112, 128)     73856     \n",
      "                                                                 \n",
      " block2_conv2 (Conv2D)       (None, 112, 112, 128)     147584    \n",
      "                                                                 \n",
      " block2_pool (MaxPooling2D)  (None, 56, 56, 128)       0         \n",
      "                                                                 \n",
      " block3_conv1 (Conv2D)       (None, 56, 56, 256)       295168    \n",
      "                                                                 \n",
      " block3_conv2 (Conv2D)       (None, 56, 56, 256)       590080    \n",
      "                                                                 \n",
      " block3_conv3 (Conv2D)       (None, 56, 56, 256)       590080    \n",
      "                                                                 \n",
      " block3_pool (MaxPooling2D)  (None, 28, 28, 256)       0         \n",
      "                                                                 \n",
      " block4_conv1 (Conv2D)       (None, 28, 28, 512)       1180160   \n",
      "                                                                 \n",
      " block4_conv2 (Conv2D)       (None, 28, 28, 512)       2359808   \n",
      "                                                                 \n",
      " block4_conv3 (Conv2D)       (None, 28, 28, 512)       2359808   \n",
      "                                                                 \n",
      " block4_pool (MaxPooling2D)  (None, 14, 14, 512)       0         \n",
      "                                                                 \n",
      " block5_conv1 (Conv2D)       (None, 14, 14, 512)       2359808   \n",
      "                                                                 \n",
      " block5_conv2 (Conv2D)       (None, 14, 14, 512)       2359808   \n",
      "                                                                 \n",
      " block5_conv3 (Conv2D)       (None, 14, 14, 512)       2359808   \n",
      "                                                                 \n",
      " block5_pool (MaxPooling2D)  (None, 7, 7, 512)         0         \n",
      "                                                                 \n",
      " global_average_pooling2d (  (None, 512)               0         \n",
      " GlobalAveragePooling2D)                                         \n",
      "                                                                 \n",
      " dense (Dense)               (None, 128)               65664     \n",
      "                                                                 \n",
      " dropout (Dropout)           (None, 128)               0         \n",
      "                                                                 \n",
      " dense_1 (Dense)             (None, 4)                 516       \n",
      "                                                                 \n",
      "=================================================================\n",
      "Total params: 14780868 (56.38 MB)\n",
      "Trainable params: 66180 (258.52 KB)\n",
      "Non-trainable params: 14714688 (56.13 MB)\n",
      "_________________________________________________________________\n"
     ]
    }
   ],
   "source": [
    "base_model = VGG16(weights='imagenet', include_top=False, input_shape=(224, 224, 3))\n",
    "base_model.trainable = False  # Congelar pesos de VGG16\n",
    "\n",
    "x = base_model.output\n",
    "x = GlobalAveragePooling2D()(x)\n",
    "x = Dense(128, activation='relu')(x)\n",
    "x = Dropout(0.5)(x)\n",
    "predictions = Dense(4, activation='softmax')(x)\n",
    "\n",
    "model = Model(inputs=base_model.input, outputs=predictions)\n",
    "model.compile(optimizer=Adam(learning_rate= l_rate),\n",
    "              loss='categorical_crossentropy',\n",
    "              metrics=['accuracy'])\n",
    "\n",
    "model.summary()"
   ]
  },
  {
   "cell_type": "code",
   "execution_count": 8,
   "metadata": {
    "colab": {
     "base_uri": "https://localhost:8080/"
    },
    "execution": {
     "iopub.execute_input": "2025-06-24T03:53:38.530315Z",
     "iopub.status.busy": "2025-06-24T03:53:38.530149Z",
     "iopub.status.idle": "2025-06-24T04:12:37.329674Z",
     "shell.execute_reply": "2025-06-24T04:12:37.326207Z",
     "shell.execute_reply.started": "2025-06-24T03:53:38.530298Z"
    },
    "id": "C9JgwbZnxvjK",
    "outputId": "957ca4d6-04ee-4a75-c145-cc02a0d06c1c",
    "tags": []
   },
   "outputs": [
    {
     "name": "stdout",
     "output_type": "stream",
     "text": [
      "Epoch 1/12\n"
     ]
    },
    {
     "name": "stderr",
     "output_type": "stream",
     "text": [
      "2025-06-24 03:53:39.988731: I external/local_xla/xla/stream_executor/cuda/cuda_dnn.cc:454] Loaded cuDNN version 8907\n",
      "2025-06-24 03:53:44.370703: I external/local_xla/xla/service/service.cc:168] XLA service 0x7f71c0d4ee40 initialized for platform CUDA (this does not guarantee that XLA will be used). Devices:\n",
      "2025-06-24 03:53:44.370749: I external/local_xla/xla/service/service.cc:176]   StreamExecutor device (0): NVIDIA RTX A4000, Compute Capability 8.6\n",
      "2025-06-24 03:53:44.388474: I tensorflow/compiler/mlir/tensorflow/utils/dump_mlir_util.cc:269] disabling MLIR crash reproducer, set env var `MLIR_CRASH_REPRODUCER_DIRECTORY` to enable.\n",
      "WARNING: All log messages before absl::InitializeLog() is called are written to STDERR\n",
      "I0000 00:00:1750737224.491630    1491 device_compiler.h:186] Compiled cluster using XLA!  This line is logged at most once for the lifetime of the process.\n"
     ]
    },
    {
     "name": "stdout",
     "output_type": "stream",
     "text": [
      "295/295 [==============================] - 92s 293ms/step - loss: 0.5778 - accuracy: 0.8354 - val_loss: 0.1362 - val_accuracy: 0.9590\n",
      "Epoch 2/12\n",
      "295/295 [==============================] - 84s 285ms/step - loss: 0.2455 - accuracy: 0.9184 - val_loss: 0.1267 - val_accuracy: 0.9600\n",
      "Epoch 3/12\n",
      "295/295 [==============================] - 84s 286ms/step - loss: 0.1997 - accuracy: 0.9301 - val_loss: 0.0924 - val_accuracy: 0.9698\n",
      "Epoch 4/12\n",
      "295/295 [==============================] - 83s 282ms/step - loss: 0.1867 - accuracy: 0.9349 - val_loss: 0.0744 - val_accuracy: 0.9773\n",
      "Epoch 5/12\n",
      "295/295 [==============================] - 86s 291ms/step - loss: 0.1605 - accuracy: 0.9440 - val_loss: 0.0771 - val_accuracy: 0.9783\n",
      "Epoch 6/12\n",
      "295/295 [==============================] - 85s 289ms/step - loss: 0.1488 - accuracy: 0.9478 - val_loss: 0.0720 - val_accuracy: 0.9758\n",
      "Epoch 7/12\n",
      "295/295 [==============================] - 83s 280ms/step - loss: 0.1438 - accuracy: 0.9478 - val_loss: 0.0639 - val_accuracy: 0.9783\n",
      "Epoch 8/12\n",
      "295/295 [==============================] - 85s 287ms/step - loss: 0.1354 - accuracy: 0.9490 - val_loss: 0.0719 - val_accuracy: 0.9773\n",
      "Epoch 9/12\n",
      "295/295 [==============================] - 84s 286ms/step - loss: 0.1319 - accuracy: 0.9530 - val_loss: 0.0708 - val_accuracy: 0.9797\n",
      "Epoch 10/12\n",
      "295/295 [==============================] - 84s 286ms/step - loss: 0.1221 - accuracy: 0.9503 - val_loss: 0.0626 - val_accuracy: 0.9812\n",
      "Epoch 11/12\n",
      "295/295 [==============================] - 84s 285ms/step - loss: 0.1136 - accuracy: 0.9578 - val_loss: 0.0811 - val_accuracy: 0.9738\n",
      "Epoch 12/12\n",
      "295/295 [==============================] - 88s 298ms/step - loss: 0.1161 - accuracy: 0.9570 - val_loss: 0.0586 - val_accuracy: 0.9792\n"
     ]
    }
   ],
   "source": [
    "with tf.device('/GPU:0'):\n",
    "  history = model.fit(\n",
    "      train_generator,\n",
    "      epochs=Epoch_test,\n",
    "      validation_data=valid_generator,\n",
    "  )"
   ]
  },
  {
   "cell_type": "code",
   "execution_count": 9,
   "metadata": {
    "execution": {
     "iopub.execute_input": "2025-06-24T04:12:37.331384Z",
     "iopub.status.busy": "2025-06-24T04:12:37.331097Z",
     "iopub.status.idle": "2025-06-24T04:12:37.336189Z",
     "shell.execute_reply": "2025-06-24T04:12:37.335168Z",
     "shell.execute_reply.started": "2025-06-24T04:12:37.331384Z"
    }
   },
   "outputs": [],
   "source": [
    "fine_tune_at = 15  # descongela solo las últimas 4 capas aprox.\n",
    "for layer in base_model.layers[:fine_tune_at]:\n",
    "    layer.trainable = False"
   ]
  },
  {
   "cell_type": "code",
   "execution_count": 10,
   "metadata": {
    "execution": {
     "iopub.execute_input": "2025-06-24T04:12:37.338736Z",
     "iopub.status.busy": "2025-06-24T04:12:37.338520Z",
     "iopub.status.idle": "2025-06-24T04:12:37.342763Z",
     "shell.execute_reply": "2025-06-24T04:12:37.342083Z",
     "shell.execute_reply.started": "2025-06-24T04:12:37.338716Z"
    }
   },
   "outputs": [],
   "source": [
    "# Descongelar solo el último bloque (bloque 5)\n",
    "for layer in base_model.layers:\n",
    "    if 'block5' in layer.name:\n",
    "        layer.trainable = True\n",
    "    else:\n",
    "        layer.trainable = False"
   ]
  },
  {
   "cell_type": "code",
   "execution_count": 11,
   "metadata": {
    "execution": {
     "iopub.execute_input": "2025-06-24T04:12:37.344253Z",
     "iopub.status.busy": "2025-06-24T04:12:37.344077Z",
     "iopub.status.idle": "2025-06-24T04:12:37.355696Z",
     "shell.execute_reply": "2025-06-24T04:12:37.355079Z",
     "shell.execute_reply.started": "2025-06-24T04:12:37.344236Z"
    }
   },
   "outputs": [],
   "source": [
    "model.compile(optimizer=Adam(learning_rate=1e-5),  # más bajo que antes\n",
    "              loss='categorical_crossentropy',\n",
    "              metrics=['accuracy'])"
   ]
  },
  {
   "cell_type": "code",
   "execution_count": 12,
   "metadata": {
    "execution": {
     "iopub.execute_input": "2025-06-24T04:12:37.356537Z",
     "iopub.status.busy": "2025-06-24T04:12:37.356375Z",
     "iopub.status.idle": "2025-06-24T04:20:53.582727Z",
     "shell.execute_reply": "2025-06-24T04:20:53.582190Z",
     "shell.execute_reply.started": "2025-06-24T04:12:37.356517Z"
    }
   },
   "outputs": [
    {
     "name": "stdout",
     "output_type": "stream",
     "text": [
      "Epoch 1/5\n",
      "295/295 [==============================] - 94s 311ms/step - loss: 0.0988 - accuracy: 0.9635 - val_loss: 0.0416 - val_accuracy: 0.9881\n",
      "Epoch 2/5\n",
      "295/295 [==============================] - 89s 300ms/step - loss: 0.0740 - accuracy: 0.9721 - val_loss: 0.0416 - val_accuracy: 0.9871\n",
      "Epoch 3/5\n",
      "295/295 [==============================] - 85s 290ms/step - loss: 0.0622 - accuracy: 0.9758 - val_loss: 0.0426 - val_accuracy: 0.9891\n",
      "Epoch 4/5\n",
      "295/295 [==============================] - 88s 297ms/step - loss: 0.0592 - accuracy: 0.9801 - val_loss: 0.0381 - val_accuracy: 0.9876\n",
      "Epoch 5/5\n",
      "295/295 [==============================] - 86s 291ms/step - loss: 0.0549 - accuracy: 0.9805 - val_loss: 0.0673 - val_accuracy: 0.9827\n"
     ]
    }
   ],
   "source": [
    "with tf.device('/GPU:0'):\n",
    "    history_finetune = model.fit(\n",
    "        train_generator,\n",
    "        epochs= 5,\n",
    "        validation_data = valid_generator,\n",
    "    )"
   ]
  },
  {
   "cell_type": "code",
   "execution_count": 13,
   "metadata": {
    "colab": {
     "base_uri": "https://localhost:8080/",
     "height": 840
    },
    "execution": {
     "iopub.execute_input": "2025-06-24T04:20:53.583970Z",
     "iopub.status.busy": "2025-06-24T04:20:53.583782Z",
     "iopub.status.idle": "2025-06-24T04:21:12.179699Z",
     "shell.execute_reply": "2025-06-24T04:21:12.178977Z",
     "shell.execute_reply.started": "2025-06-24T04:20:53.583953Z"
    },
    "id": "V2HZyRhaTGMa",
    "outputId": "c5295e83-2f21-4793-abf3-06ddcbbe6578"
   },
   "outputs": [
    {
     "name": "stdout",
     "output_type": "stream",
     "text": [
      "63/63 [==============================] - 18s 283ms/step\n",
      "Classification Report\n",
      "              precision    recall  f1-score   support\n",
      "\n",
      "    overripe       1.00      0.95      0.98       479\n",
      "        ripe       0.94      1.00      0.97       520\n",
      "      rotten       1.00      0.98      0.99       541\n",
      "      unripe       0.99      1.00      0.99       475\n",
      "\n",
      "    accuracy                           0.98      2015\n",
      "   macro avg       0.98      0.98      0.98      2015\n",
      "weighted avg       0.98      0.98      0.98      2015\n",
      "\n",
      "Confusion Matrix\n"
     ]
    },
    {
     "data": {
      "image/png": "[encoded data removed]",
      "text/plain": [
       "<Figure size 800x600 with 2 Axes>"
      ]
     },
     "metadata": {},
     "output_type": "display_data"
    }
   ],
   "source": [
    "# Predicciones\n",
    "Y_pred = model.predict(test_generator)\n",
    "y_pred = np.argmax(Y_pred, axis=1)\n",
    "\n",
    "# Reporte y matriz de confusión\n",
    "print('Classification Report')\n",
    "print(classification_report(test_generator.classes, y_pred, target_names=test_generator.class_indices.keys()))\n",
    "\n",
    "print('Confusion Matrix')\n",
    "cm = confusion_matrix(test_generator.classes, y_pred)\n",
    "\n",
    "# Visualizar la matriz\n",
    "plt.figure(figsize=(8,6))\n",
    "sns.heatmap(cm, annot=True, fmt='d', xticklabels=test_generator.class_indices.keys(),\n",
    "            yticklabels=test_generator.class_indices.keys(), cmap='Blues')\n",
    "plt.title(f\"Resultados modelo VGG16 con Fine-Tuning \")\n",
    "plt.xlabel('Predicted')\n",
    "plt.ylabel('True')\n",
    "plt.savefig(f'Matrices de confusion/FT/matriz_confusion_VGG16.png', bbox_inches='tight')\n",
    "plt.show()\n"
   ]
  },
  {
   "cell_type": "code",
   "execution_count": 14,
   "metadata": {
    "execution": {
     "iopub.execute_input": "2025-06-24T04:21:12.180839Z",
     "iopub.status.busy": "2025-06-24T04:21:12.180666Z",
     "iopub.status.idle": "2025-06-24T04:21:12.220349Z",
     "shell.execute_reply": "2025-06-24T04:21:12.219529Z",
     "shell.execute_reply.started": "2025-06-24T04:21:12.180822Z"
    },
    "id": "a2ioUh2Huihk",
    "outputId": "3baaa84b-edc7-463b-a7ed-eb2df82e0298"
   },
   "outputs": [
    {
     "name": "stdout",
     "output_type": "stream",
     "text": [
      "Test accuracy for 'vgg16_FT' saved to 'accurasy_fine_tuning.csv'.\n"
     ]
    }
   ],
   "source": [
    "from sklearn.metrics import accuracy_score\n",
    "\n",
    "test_accuracy = accuracy_score(test_generator.classes, y_pred)\n",
    "experiment_name = f'vgg16_FT'\n",
    "\n",
    "save_test_accuracy(experiment_name, test_accuracy,'accurasy_fine_tuning.csv')"
   ]
  },
  {
   "cell_type": "code",
   "execution_count": 15,
   "metadata": {
    "colab": {
     "base_uri": "https://localhost:8080/",
     "height": 54
    },
    "execution": {
     "iopub.execute_input": "2025-06-24T04:21:12.221608Z",
     "iopub.status.busy": "2025-06-24T04:21:12.221431Z",
     "iopub.status.idle": "2025-06-24T04:21:12.527897Z",
     "shell.execute_reply": "2025-06-24T04:21:12.527234Z",
     "shell.execute_reply.started": "2025-06-24T04:21:12.221592Z"
    },
    "id": "0OsV606EUthB",
    "outputId": "9c528975-8387-456b-e736-60ec4ce51b0b"
   },
   "outputs": [
    {
     "name": "stderr",
     "output_type": "stream",
     "text": [
      "/usr/local/lib/python3.11/dist-packages/keras/src/engine/training.py:3103: UserWarning: You are saving your model as an HDF5 file via `model.save()`. This file format is considered legacy. We recommend using instead the native Keras format, e.g. `model.save('my_model.keras')`.\n",
      "  saving_api.save_model(\n"
     ]
    },
    {
     "name": "stdout",
     "output_type": "stream",
     "text": [
      "saved model\n"
     ]
    }
   ],
   "source": [
    "#from google.colab import files\n",
    "\n",
    "# Guarda el modelo localmente en Colab\n",
    "model.save(f'modelos/VGG16_FT.h5')\n",
    "print(\"saved model\")\n",
    "\n",
    "# Descarga el archivo\n",
    "#files.download('VGG16.h5')"
   ]
  },
  {
   "cell_type": "code",
   "execution_count": null,
   "metadata": {},
   "outputs": [],
   "source": []
  }
 ],
 "metadata": {
  "accelerator": "GPU",
  "colab": {
   "gpuType": "T4",
   "provenance": [
    {
     "file_id": "1IRNoDF9_GjLT5Ez8W2jEP_xtfG-t36v0",
     "timestamp": 1749997053526
    },
    {
     "file_id": "11DcVojyeUj4u23dwHyqOvfsOF8vLvURs",
     "timestamp": 1749997017446
    },
    {
     "file_id": "12bmNfZDuNZ-zLeizLezrU9xP5ZjKOL3Z",
     "timestamp": 1749996619229
    }
   ]
  },
  "kernelspec": {
   "display_name": "Python 3 (ipykernel)",
   "language": "python",
   "name": "python3"
  },
  "language_info": {
   "codemirror_mode": {
    "name": "ipython",
    "version": 3
   },
   "file_extension": ".py",
   "mimetype": "text/x-python",
   "name": "python",
   "nbconvert_exporter": "python",
   "pygments_lexer": "ipython3",
   "version": "3.11.7"
  }
 },
 "nbformat": 4,
 "nbformat_minor": 4
}
